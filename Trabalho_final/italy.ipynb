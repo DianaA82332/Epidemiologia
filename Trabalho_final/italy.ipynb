{
 "cells": [
  {
   "cell_type": "markdown",
   "metadata": {},
   "source": [
    "# Itália #"
   ]
  },
  {
   "cell_type": "code",
   "execution_count": 1,
   "metadata": {},
   "outputs": [
    {
     "name": "stdout",
     "output_type": "stream",
     "text": [
      "Application state:\n",
      "QGIS_PREFIX_PATH env var:\t\t/Users/dianamartins/anaconda3/QGIS.app/Contents/MacOS\n",
      "Prefix:\t\t/Users/dianamartins/anaconda3/QGIS.app/Contents/MacOS\n",
      "Plugin Path:\t\t/Users/dianamartins/anaconda3/QGIS.app/Contents/MacOS/../PlugIns/qgis\n",
      "Package Data Path:\t/Users/dianamartins/anaconda3/QGIS.app/Contents/MacOS/../Resources\n",
      "Active Theme Name:\t\n",
      "Active Theme Path:\t/Users/dianamartins/anaconda3/QGIS.app/Contents/MacOS/../Resources/resources/themes//icons/\n",
      "Default Theme Path:\t:/images/themes/default/\n",
      "SVG Search Paths:\t/usr/local/../Resources/svg/\n",
      "\t\t/Users/dianamartins/anaconda3/QGIS.app/Contents/MacOS/../Resources/svg/\n",
      "\t\t/Users/dianamartins/Library/Application Support/profiles/default/svg/\n",
      "User DB Path:\t/Users/dianamartins/anaconda3/QGIS.app/Contents/MacOS/../Resources/resources/qgis.db\n",
      "Auth DB Path:\t/Users/dianamartins/Library/Application Support/profiles/default/qgis-auth.db\n",
      "\n"
     ]
    }
   ],
   "source": [
    "import os\n",
    "import sys\n",
    "from osgeo import ogr\n",
    "os.environ['QT_QPA_PLATFORM'] = 'offscreen'\n",
    "sys.path.insert(0,'/usr/local/share/qgis/python')\n",
    "from qgis.core import *\n",
    "QgsApplication.setPrefixPath(\"/usr/local\", True) \n",
    "from qgis.gui import *\n",
    "from qgis import processing\n",
    "\n",
    "from qgis.PyQt.QtGui import QColor, QImage\n",
    "from qgis.PyQt.QtCore import QSize, QBuffer, QIODevice\n",
    "\n",
    "qgs = QgsApplication([], False)\n",
    "qgs.initQgis()\n",
    "print(QgsApplication.showSettings())"
   ]
  },
  {
   "cell_type": "code",
   "execution_count": 2,
   "metadata": {},
   "outputs": [
    {
     "name": "stdout",
     "output_type": "stream",
     "text": [
      "Layer loaded!\n"
     ]
    }
   ],
   "source": [
    "map_italy = \"/Users/dianamartins/Documents/GitHub/Epidemiologia/Trabalho_final/Dados/dpc-covid-19-ita-aree.shp\"\n",
    "vlayer = QgsVectorLayer(map_italy,\"ITA_adm1\", \"ogr\")\n",
    "if not vlayer.isValid():\n",
    "    print(\"Layer failed to load!\")\n",
    "else:\n",
    "    QgsProject.instance().addMapLayer(vlayer)\n",
    "    print(\"Layer loaded!\")"
   ]
  },
  {
   "cell_type": "code",
   "execution_count": 20,
   "metadata": {},
   "outputs": [
    {
     "name": "stdout",
     "output_type": "stream",
     "text": [
      "Layer failed to load!\n"
     ]
    }
   ],
   "source": [
    "\n",
    "csv_path = \"/Users/dianamartins/Documents/GitHub/Epidemiologia/Trabalho_final/Dados/dados_italy?delimiter=,'\"\n",
    "csv_layer = QgsVectorLayer(csv_path, 'Data', 'delimitedtext')\n",
    "\n",
    "if not csv_layer.isValid():\n",
    "    print('Layer failed to load!')\n",
    "else:\n",
    "    project.addMapLayer(csv_layer)\n",
    "    print(\"Sucess\")\n",
    "  "
   ]
  },
  {
   "cell_type": "code",
   "execution_count": 15,
   "metadata": {},
   "outputs": [
    {
     "data": {
      "text/plain": [
       "False"
      ]
     },
     "execution_count": 15,
     "metadata": {},
     "output_type": "execute_result"
    }
   ],
   "source": []
  },
  {
   "cell_type": "code",
   "execution_count": 19,
   "metadata": {},
   "outputs": [
    {
     "data": {
      "text/plain": [
       "False"
      ]
     },
     "execution_count": 19,
     "metadata": {},
     "output_type": "execute_result"
    }
   ],
   "source": []
  },
  {
   "cell_type": "code",
   "execution_count": 20,
   "metadata": {},
   "outputs": [],
   "source": []
  },
  {
   "cell_type": "code",
   "execution_count": null,
   "metadata": {},
   "outputs": [],
   "source": []
  }
 ],
 "metadata": {
  "kernelspec": {
   "display_name": "Python 3",
   "language": "python",
   "name": "python3"
  },
  "language_info": {
   "codemirror_mode": {
    "name": "ipython",
    "version": 3
   },
   "file_extension": ".py",
   "mimetype": "text/x-python",
   "name": "python",
   "nbconvert_exporter": "python",
   "pygments_lexer": "ipython3",
   "version": "3.7.7"
  }
 },
 "nbformat": 4,
 "nbformat_minor": 4
}

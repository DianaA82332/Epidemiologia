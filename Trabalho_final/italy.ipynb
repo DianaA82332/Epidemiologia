{
 "cells": [
  {
   "cell_type": "markdown",
   "metadata": {},
   "source": [
    "# Itália #"
   ]
  },
  {
   "cell_type": "code",
   "execution_count": 1,
   "metadata": {},
   "outputs": [
    {
     "name": "stdout",
     "output_type": "stream",
     "text": [
      "Application state:\n",
      "QGIS_PREFIX_PATH env var:\t\t/Users/dianamartins/anaconda3/QGIS.app/Contents/MacOS\n",
      "Prefix:\t\t/Users/dianamartins/anaconda3/QGIS.app/Contents/MacOS\n",
      "Plugin Path:\t\t/Users/dianamartins/anaconda3/QGIS.app/Contents/MacOS/../PlugIns/qgis\n",
      "Package Data Path:\t/Users/dianamartins/anaconda3/QGIS.app/Contents/MacOS/../Resources\n",
      "Active Theme Name:\t\n",
      "Active Theme Path:\t/Users/dianamartins/anaconda3/QGIS.app/Contents/MacOS/../Resources/resources/themes//icons/\n",
      "Default Theme Path:\t:/images/themes/default/\n",
      "SVG Search Paths:\t/usr/local/../Resources/svg/\n",
      "\t\t/Users/dianamartins/anaconda3/QGIS.app/Contents/MacOS/../Resources/svg/\n",
      "\t\t/Users/dianamartins/Library/Application Support/profiles/default/svg/\n",
      "User DB Path:\t/Users/dianamartins/anaconda3/QGIS.app/Contents/MacOS/../Resources/resources/qgis.db\n",
      "Auth DB Path:\t/Users/dianamartins/Library/Application Support/profiles/default/qgis-auth.db\n",
      "\n"
     ]
    }
   ],
   "source": [
    "import os\n",
    "import sys\n",
    "from osgeo import ogr\n",
    "os.environ['QT_QPA_PLATFORM'] = 'offscreen'\n",
    "sys.path.insert(0,'/usr/local/share/qgis/python')\n",
    "from qgis.core import *\n",
    "QgsApplication.setPrefixPath(\"/usr/local\", True) \n",
    "from qgis.gui import *\n",
    "from qgis import processing\n",
    "from IPython.display import Image\n",
    "from qgis.PyQt.QtGui import QColor, QImage\n",
    "from qgis.PyQt.QtCore import QSize, QBuffer, QIODevice\n",
    "\n",
    "qgs = QgsApplication([], True)\n",
    "qgs.initQgis()\n",
    "print(QgsApplication.showSettings())\n",
    "project = QgsProject.instance()"
   ]
  },
  {
   "cell_type": "code",
   "execution_count": 2,
   "metadata": {},
   "outputs": [
    {
     "name": "stdout",
     "output_type": "stream",
     "text": [
      "Layer loaded!\n"
     ]
    }
   ],
   "source": [
    "italy_map = \"/Users/dianamartins/Documents/GitHub/Epidemiologia/Trabalho_final/Dados/ITA_adm/ITA_adm1.shp\"\n",
    "vlayer = QgsVectorLayer(italy_map, \"italy_map\", \"ogr\")\n",
    "if not vlayer.isValid():\n",
    "    print(\"Layer failed to load!\")\n",
    "else:\n",
    "    QgsProject.instance().addMapLayer(vlayer)\n",
    "    print(\"Layer loaded!\")"
   ]
  },
  {
   "cell_type": "code",
   "execution_count": 3,
   "metadata": {},
   "outputs": [
    {
     "name": "stdout",
     "output_type": "stream",
     "text": [
      "Layer loaded !\n"
     ]
    }
   ],
   "source": [
    "csv_path = \"file:///Users/dianamartins/Documents/GitHub/Epidemiologia/Trabalho_final/Dados/casos_italia_atual.csv?delimiter=,\"\n",
    "csv_layer = QgsVectorLayer(csv_path, 'Data', 'delimitedtext')\n",
    "\n",
    "if not csv_layer.isValid():\n",
    "    print('Layer failed to load!')\n",
    "else:\n",
    "    QgsProject.instance().addMapLayer(csv_layer)\n",
    "    print(\"Layer loaded !\")"
   ]
  },
  {
   "cell_type": "markdown",
   "metadata": {},
   "source": [
    "#### Juntar as camadas ####"
   ]
  },
  {
   "cell_type": "code",
   "execution_count": 4,
   "metadata": {},
   "outputs": [],
   "source": [
    "joinName='codice_regione'\n",
    "targetName='ID_1'\n",
    "\n",
    "joinObject=QgsVectorLayerJoinInfo()\n",
    "joinObject.setJoinFieldName(joinName)\n",
    "joinObject.setTargetFieldName(targetName)\n",
    "joinObject.setJoinLayerId(csv_layer.id())\n",
    "joinObject.setUsingMemoryCache(True)\n",
    "joinObject.setJoinLayer(csv_layer)\n",
    "flag = vlayer.addJoin(joinObject)\n",
    "\n"
   ]
  },
  {
   "cell_type": "code",
   "execution_count": 11,
   "metadata": {},
   "outputs": [
    {
     "name": "stdout",
     "output_type": "stream",
     "text": [
      "Column ID_0 Load\n",
      "Column ISO Load\n",
      "Column NAME_0 Load\n",
      "Column ID_1 Load\n",
      "Column NAME_1 Load\n",
      "Column TYPE_1 Load\n",
      "Column ENGTYPE_1 Load\n",
      "Column NL_NAME_1 Load\n",
      "Column VARNAME_1 Load\n",
      "Column Data_data Load\n",
      "Column Data_stato Load\n",
      "Column Data_denominazione_regione Load\n",
      "Column Data_lat Load\n",
      "Column Data_long Load\n",
      "Column Data_ricoverati_con_sintomi Load\n",
      "Column Data_terapia_intensiva Load\n",
      "Column Data_totale_ospedalizzati Load\n",
      "Column Data_isolamento_domiciliare Load\n",
      "Column Data_totale_positivi Load\n",
      "Column Data_variazione_totale_positivi Load\n",
      "Column Data_nuovi_positivi Load\n",
      "Column Data_dimessi_guariti Load\n",
      "Column Data_deceduti Load\n",
      "Column Data_totale_casi Load\n",
      "Column Data_tamponi Load\n",
      "Column Data_casi_testati Load\n",
      "Column Data_note_it Load\n",
      "Column Data_note_en Load\n"
     ]
    }
   ],
   "source": [
    "novospositivos_layer = vlayer.clone()\n",
    "novospositivos_layer.setName(\"Novos positivos\")\n",
    "\n",
    "for field in deaths_layer.fields():\n",
    "    print(\"Column \"+field.name()+\" Load\")"
   ]
  },
  {
   "cell_type": "code",
   "execution_count": 16,
   "metadata": {},
   "outputs": [],
   "source": [
    "from qgis.PyQt import QtGui\n",
    "\n",
    "\n",
    "myOpacity = 1\n",
    "myTargetField = 'Data_nuovi_positivi'\n",
    "myRangeList = []\n",
    "# Make our first symbol and range...\n",
    "myMin = 0\n",
    "myMax = 10\n",
    "myLabel = '0-10'\n",
    "myColour = QtGui.QColor('#ffffff')\n",
    "mySymbol = QgsSymbol.defaultSymbol(novospositivos_layer.geometryType())\n",
    "mySymbol.setColor(myColour)\n",
    "myRange = QgsRendererRange(myMin, myMax, mySymbol, myLabel)\n",
    "myRangeList.append(myRange)\n",
    "#now make another symbol and range...\n",
    "myMin = 10\n",
    "myMax = 30\n",
    "myLabel = '10 - 30'\n",
    "myColour = QtGui.QColor('#ffbbbb')\n",
    "mySymbol = QgsSymbol.defaultSymbol(novospositivos_layer.geometryType())\n",
    "mySymbol.setColor(myColour)\n",
    "myRange = QgsRendererRange(myMin, myMax, mySymbol, myLabel)\n",
    "myRangeList.append(myRange)\n",
    "#now make another symbol and range...\n",
    "myMin = 30\n",
    "myMax = 50\n",
    "myLabel = '30 - 50'\n",
    "myColour = QtGui.QColor('#ff8888')\n",
    "mySymbol = QgsSymbol.defaultSymbol(novospositivos_layer.geometryType())\n",
    "mySymbol.setColor(myColour)\n",
    "myRange = QgsRendererRange(myMin, myMax, mySymbol, myLabel)\n",
    "myRangeList.append(myRange)\n",
    "#now make another symbol and range...\n",
    "myMin = 50\n",
    "myMax = 100\n",
    "myLabel = '50 - 100'\n",
    "myColour = QtGui.QColor('#ff4444')\n",
    "mySymbol = QgsSymbol.defaultSymbol(novospositivos_layer.geometryType())\n",
    "mySymbol.setColor(myColour)\n",
    "myRange = QgsRendererRange(myMin, myMax, mySymbol, myLabel)\n",
    "myRangeList.append(myRange)\n",
    "#now make another symbol and range...\n",
    "myMin = 100\n",
    "myMax = 400\n",
    "myLabel = '100 - 400'\n",
    "myColour = QtGui.QColor('#ff0000')\n",
    "mySymbol = QgsSymbol.defaultSymbol(novospositivos_layer.geometryType())\n",
    "mySymbol.setColor(myColour)\n",
    "myRange = QgsRendererRange(myMin, myMax, mySymbol, myLabel)\n",
    "myRangeList.append(myRange)\n",
    "\n",
    "\n",
    "novospositivos_layer.setRenderer(myRenderer)\n",
    "\n"
   ]
  },
  {
   "cell_type": "code",
   "execution_count": 19,
   "metadata": {},
   "outputs": [
    {
     "data": {
      "text/plain": [
       "False"
      ]
     },
     "execution_count": 19,
     "metadata": {},
     "output_type": "execute_result"
    }
   ],
   "source": [
    "xt = novospositivos_layer.extent()\n",
    "width  = 1024\n",
    "height = int(width*xt.height()/xt.width())\n",
    "\n",
    "project = QgsProject().instance()\n",
    "project.addMapLayers([cases_layer])\n",
    "manager = project.layoutManager()\n",
    "layoutName = 'novos_casos'\n",
    "layouts_list = manager.printLayouts()\n",
    "for layout in layouts_list:\n",
    "    if layout.name() == layoutName:\n",
    "        manager.removeLayout(layout)\n",
    "        \n",
    "layout = QgsPrintLayout(project)\n",
    "layout.initializeDefaults()\n",
    "layout.setName(layoutName)\n",
    "manager.addLayout(layout)\n",
    "\n",
    "pc = layout.pageCollection()\n",
    "pc.page(0).attemptResize(QgsLayoutSize(width,height,QgsUnitTypes.LayoutMillimeters))\n",
    "\n",
    "\n",
    "map = QgsLayoutItemMap(layout)\n",
    "map.setRect(20,20,20,20)\n",
    "map.setLayers([novospositivos_layer])\n",
    "\n",
    "\n",
    "\n",
    "ms = QgsMapSettings()\n",
    "ms.setLayers([novospositivos_layer])\n",
    "ms.setExtent(xt)\n",
    "map.setExtent(xt)\n",
    "\n",
    "\n",
    "layout.addLayoutItem(map)\n",
    "\n",
    "\n",
    "\n",
    "map.attemptMove(QgsLayoutPoint(0,0,QgsUnitTypes.LayoutMillimeters))\n",
    "map.attemptResize(QgsLayoutSize(width,height,QgsUnitTypes.LayoutMillimeters))\n",
    "\n",
    "\n",
    "map.setBackgroundColor(QColor(250,250,250))\n",
    "\n",
    "\n",
    "\n",
    "\n",
    "legend = QgsLayoutItemLegend(layout)\n",
    "\n",
    "legend.setReferencePoint(6)\n",
    "legend.setScale(3)\n",
    "legend.attemptMove(QgsLayoutPoint(0,height,QgsUnitTypes.LayoutMillimeters))\n",
    "\n",
    "layout.addLayoutItem(legend)\n",
    "legend.setLegendFilterByMapEnabled(True)\n",
    "\n",
    "legend.setLinkedMap(map)\n",
    "\n",
    "exporter = QgsLayoutExporter(manager.layoutByName(\"novos_casos\"))\n",
    "\n",
    "image = exporter.renderPageToImage(0)\n",
    "image = exporter.renderPageToImage(0)\n",
    "\n",
    "from IPython.display import Image\n",
    "imgbuf= QBuffer()\n",
    "imgbuf.open( QIODevice.ReadWrite )\n",
    "image.save( imgbuf,\"PNG\" )\n",
    "image.save('/Users/dianamartins/Documents/GitHub/Epidemiologia/Trabalho_final/Imagens/novos_casosatual',\"PNG\")\n",
    "Image( imgbuf.data() )"
   ]
  },
  {
   "cell_type": "code",
   "execution_count": 20,
   "metadata": {},
   "outputs": [],
   "source": []
  },
  {
   "cell_type": "code",
   "execution_count": null,
   "metadata": {},
   "outputs": [],
   "source": []
  }
 ],
 "metadata": {
  "kernelspec": {
   "display_name": "Python 3",
   "language": "python",
   "name": "python3"
  },
  "language_info": {
   "codemirror_mode": {
    "name": "ipython",
    "version": 3
   },
   "file_extension": ".py",
   "mimetype": "text/x-python",
   "name": "python",
   "nbconvert_exporter": "python",
   "pygments_lexer": "ipython3",
   "version": "3.7.7"
  }
 },
 "nbformat": 4,
 "nbformat_minor": 4
}

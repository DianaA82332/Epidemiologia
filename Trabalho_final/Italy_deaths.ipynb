{
 "cells": [
  {
   "cell_type": "markdown",
   "metadata": {},
   "source": [
    "# Mortes em Itália devido ao Covid-19, por região #"
   ]
  },
  {
   "cell_type": "markdown",
   "metadata": {},
   "source": [
    "## Ligação ao Qgis ##"
   ]
  },
  {
   "cell_type": "code",
   "execution_count": 1,
   "metadata": {},
   "outputs": [
    {
     "name": "stdout",
     "output_type": "stream",
     "text": [
      "Application state:\n",
      "QGIS_PREFIX_PATH env var:\t\t/Users/dianamartins/anaconda3/QGIS.app/Contents/MacOS\n",
      "Prefix:\t\t/Users/dianamartins/anaconda3/QGIS.app/Contents/MacOS\n",
      "Plugin Path:\t\t/Users/dianamartins/anaconda3/QGIS.app/Contents/MacOS/../PlugIns/qgis\n",
      "Package Data Path:\t/Users/dianamartins/anaconda3/QGIS.app/Contents/MacOS/../Resources\n",
      "Active Theme Name:\t\n",
      "Active Theme Path:\t/Users/dianamartins/anaconda3/QGIS.app/Contents/MacOS/../Resources/resources/themes//icons/\n",
      "Default Theme Path:\t:/images/themes/default/\n",
      "SVG Search Paths:\t/usr/local/../Resources/svg/\n",
      "\t\t/Users/dianamartins/anaconda3/QGIS.app/Contents/MacOS/../Resources/svg/\n",
      "\t\t/Users/dianamartins/Library/Application Support/profiles/default/svg/\n",
      "User DB Path:\t/Users/dianamartins/anaconda3/QGIS.app/Contents/MacOS/../Resources/resources/qgis.db\n",
      "Auth DB Path:\t/Users/dianamartins/Library/Application Support/profiles/default/qgis-auth.db\n",
      "\n"
     ]
    }
   ],
   "source": [
    "import os\n",
    "import sys\n",
    "from osgeo import ogr\n",
    "os.environ['QT_QPA_PLATFORM'] = 'offscreen'\n",
    "sys.path.insert(0,'/usr/local/share/qgis/python')\n",
    "from qgis.core import *\n",
    "QgsApplication.setPrefixPath(\"/usr/local\", True) \n",
    "from qgis.gui import *\n",
    "from qgis import processing\n",
    "\n",
    "from qgis.PyQt.QtGui import QColor, QImage\n",
    "from qgis.PyQt.QtCore import QSize, QBuffer, QIODevice\n",
    "\n",
    "qgs = QgsApplication([], False)\n",
    "qgs.initQgis()\n",
    "print(QgsApplication.showSettings())"
   ]
  },
  {
   "cell_type": "markdown",
   "metadata": {},
   "source": [
    "## Carregar uma camada a partir de uma tabela guardada num Geopackage ##"
   ]
  },
  {
   "cell_type": "code",
   "execution_count": null,
   "metadata": {},
   "outputs": [],
   "source": []
  }
 ],
 "metadata": {
  "kernelspec": {
   "display_name": "Python 3",
   "language": "python",
   "name": "python3"
  },
  "language_info": {
   "codemirror_mode": {
    "name": "ipython",
    "version": 3
   },
   "file_extension": ".py",
   "mimetype": "text/x-python",
   "name": "python",
   "nbconvert_exporter": "python",
   "pygments_lexer": "ipython3",
   "version": "3.7.7"
  }
 },
 "nbformat": 4,
 "nbformat_minor": 4
}

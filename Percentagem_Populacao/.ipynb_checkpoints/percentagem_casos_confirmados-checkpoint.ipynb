{
 "cells": [
  {
   "cell_type": "markdown",
   "metadata": {},
   "source": [
    "# Percentagem de Casos Confirmados de Covid-19 em Portugal, por região #"
   ]
  },
  {
   "cell_type": "markdown",
   "metadata": {},
   "source": [
    "Analisando o boletim epidemiológico da Covid-19 em Portugal verifica-se que, por exemplo, o Norte apresenta um maior número de casos. No entanto, é necessário analisar estes números com base na população existente em cada região.\n",
    "Assim, neste notebook procedeu-se à criação de um mapa com a percentagem de população infetada em cada região [NUTS II](#SU_StatisticalUnits_NUTSII2013_PTCont_EPSG3763.gml) com recurso ao QGIS.\n",
    "Para saber o número de habitantes em Portugal, utilizaram-se os dados estatísticos do INE [Censos 2011](#BGRI11_CONT.csv). Utilizaram-se também os dados referentes ao número de casos confirmados por distrito até ao dia 18 de maio de 2020."
   ]
  },
  {
   "cell_type": "code",
   "execution_count": null,
   "metadata": {},
   "outputs": [],
   "source": []
  }
 ],
 "metadata": {
  "kernelspec": {
   "display_name": "Python 3",
   "language": "python",
   "name": "python3"
  },
  "language_info": {
   "codemirror_mode": {
    "name": "ipython",
    "version": 3
   },
   "file_extension": ".py",
   "mimetype": "text/x-python",
   "name": "python",
   "nbconvert_exporter": "python",
   "pygments_lexer": "ipython3",
   "version": "3.7.7"
  }
 },
 "nbformat": 4,
 "nbformat_minor": 4
}

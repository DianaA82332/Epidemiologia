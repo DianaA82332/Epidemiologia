{
 "cells": [
  {
   "cell_type": "markdown",
   "metadata": {},
   "source": [
    "# Percentagem de Casos Confirmados de Covid-19 em Portugal, por região #"
   ]
  },
  {
   "cell_type": "markdown",
   "metadata": {},
   "source": [
    "Analisando o boletim epidemiológico da Covid-19 em Portugal verifica-se que, por exemplo, o Norte apresenta um maior número de casos. No entanto, é necessário analisar estes números com base na população existente em cada região.\n",
    "Assim, neste notebook procedeu-se à criação de um mapa com a percentagem de população infetada em cada região [NUTS II] ( com recurso ao QGIS.\n",
    "Para tal, foi necessário"
   ]
  }
 ],
 "metadata": {
  "kernelspec": {
   "display_name": "Python 3",
   "language": "python",
   "name": "python3"
  },
  "language_info": {
   "codemirror_mode": {
    "name": "ipython",
    "version": 3
   },
   "file_extension": ".py",
   "mimetype": "text/x-python",
   "name": "python",
   "nbconvert_exporter": "python",
   "pygments_lexer": "ipython3",
   "version": "3.7.7"
  }
 },
 "nbformat": 4,
 "nbformat_minor": 4
}

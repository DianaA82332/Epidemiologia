{
 "cells": [
  {
   "cell_type": "markdown",
   "metadata": {},
   "source": [
    "# Comparação entre o número de mortes em Portugal em 2019 e o número de mortos atualmente #"
   ]
  },
  {
   "cell_type": "markdown",
   "metadata": {},
   "source": [
    "> Seguidamente vai ser comparado o número de mortes em Portugal em 2019 e o número de mortes em 2020"
   ]
  },
  {
   "cell_type": "code",
   "execution_count": 190,
   "metadata": {},
   "outputs": [
    {
     "data": {
      "text/html": [
       "<div>\n",
       "<style scoped>\n",
       "    .dataframe tbody tr th:only-of-type {\n",
       "        vertical-align: middle;\n",
       "    }\n",
       "\n",
       "    .dataframe tbody tr th {\n",
       "        vertical-align: top;\n",
       "    }\n",
       "\n",
       "    .dataframe thead th {\n",
       "        text-align: right;\n",
       "    }\n",
       "</style>\n",
       "<table border=\"1\" class=\"dataframe\">\n",
       "  <thead>\n",
       "    <tr style=\"text-align: right;\">\n",
       "      <th></th>\n",
       "      <th>Data</th>\n",
       "      <th>2009</th>\n",
       "      <th>2010</th>\n",
       "      <th>2011</th>\n",
       "      <th>2012</th>\n",
       "      <th>2013</th>\n",
       "      <th>2014</th>\n",
       "      <th>2015</th>\n",
       "      <th>2016</th>\n",
       "      <th>2017</th>\n",
       "      <th>2018</th>\n",
       "      <th>2019</th>\n",
       "      <th>2020</th>\n",
       "    </tr>\n",
       "  </thead>\n",
       "  <tbody>\n",
       "    <tr>\n",
       "      <th>0</th>\n",
       "      <td>Jan-01</td>\n",
       "      <td>423.0</td>\n",
       "      <td>318.0</td>\n",
       "      <td>384.0</td>\n",
       "      <td>379</td>\n",
       "      <td>339.0</td>\n",
       "      <td>375.0</td>\n",
       "      <td>407.0</td>\n",
       "      <td>366</td>\n",
       "      <td>475.0</td>\n",
       "      <td>414.0</td>\n",
       "      <td>371.0</td>\n",
       "      <td>376.0</td>\n",
       "    </tr>\n",
       "    <tr>\n",
       "      <th>1</th>\n",
       "      <td>Jan-02</td>\n",
       "      <td>435.0</td>\n",
       "      <td>364.0</td>\n",
       "      <td>357.0</td>\n",
       "      <td>357</td>\n",
       "      <td>343.0</td>\n",
       "      <td>394.0</td>\n",
       "      <td>413.0</td>\n",
       "      <td>314</td>\n",
       "      <td>578.0</td>\n",
       "      <td>418.0</td>\n",
       "      <td>386.0</td>\n",
       "      <td>381.0</td>\n",
       "    </tr>\n",
       "    <tr>\n",
       "      <th>2</th>\n",
       "      <td>Jan-03</td>\n",
       "      <td>416.0</td>\n",
       "      <td>357.0</td>\n",
       "      <td>370.0</td>\n",
       "      <td>356</td>\n",
       "      <td>352.0</td>\n",
       "      <td>399.0</td>\n",
       "      <td>416.0</td>\n",
       "      <td>339</td>\n",
       "      <td>479.0</td>\n",
       "      <td>450.0</td>\n",
       "      <td>367.0</td>\n",
       "      <td>374.0</td>\n",
       "    </tr>\n",
       "    <tr>\n",
       "      <th>3</th>\n",
       "      <td>Jan-04</td>\n",
       "      <td>380.0</td>\n",
       "      <td>322.0</td>\n",
       "      <td>350.0</td>\n",
       "      <td>362</td>\n",
       "      <td>321.0</td>\n",
       "      <td>327.0</td>\n",
       "      <td>466.0</td>\n",
       "      <td>348</td>\n",
       "      <td>501.0</td>\n",
       "      <td>425.0</td>\n",
       "      <td>371.0</td>\n",
       "      <td>364.0</td>\n",
       "    </tr>\n",
       "    <tr>\n",
       "      <th>4</th>\n",
       "      <td>Jan-05</td>\n",
       "      <td>446.0</td>\n",
       "      <td>334.0</td>\n",
       "      <td>368.0</td>\n",
       "      <td>354</td>\n",
       "      <td>342.0</td>\n",
       "      <td>359.0</td>\n",
       "      <td>452.0</td>\n",
       "      <td>329</td>\n",
       "      <td>493.0</td>\n",
       "      <td>434.0</td>\n",
       "      <td>367.0</td>\n",
       "      <td>333.0</td>\n",
       "    </tr>\n",
       "  </tbody>\n",
       "</table>\n",
       "</div>"
      ],
      "text/plain": [
       "     Data   2009   2010   2011  2012   2013   2014   2015  2016   2017   2018  \\\n",
       "0  Jan-01  423.0  318.0  384.0   379  339.0  375.0  407.0   366  475.0  414.0   \n",
       "1  Jan-02  435.0  364.0  357.0   357  343.0  394.0  413.0   314  578.0  418.0   \n",
       "2  Jan-03  416.0  357.0  370.0   356  352.0  399.0  416.0   339  479.0  450.0   \n",
       "3  Jan-04  380.0  322.0  350.0   362  321.0  327.0  466.0   348  501.0  425.0   \n",
       "4  Jan-05  446.0  334.0  368.0   354  342.0  359.0  452.0   329  493.0  434.0   \n",
       "\n",
       "    2019   2020  \n",
       "0  371.0  376.0  \n",
       "1  386.0  381.0  \n",
       "2  367.0  374.0  \n",
       "3  371.0  364.0  \n",
       "4  367.0  333.0  "
      ]
     },
     "execution_count": 190,
     "metadata": {},
     "output_type": "execute_result"
    }
   ],
   "source": [
    "import pandas as pd\n",
    "import numpy as np\n",
    "dados=pd.read_csv(\"/Users/dianamartins/Documents/GitHub/Epidemiologia/Mortalidade_Covid_Portugal/Dados_total.csv\")\n",
    "dados.head()"
   ]
  },
  {
   "cell_type": "code",
   "execution_count": 191,
   "metadata": {},
   "outputs": [
    {
     "data": {
      "text/html": [
       "        <script type=\"text/javascript\">\n",
       "        window.PlotlyConfig = {MathJaxConfig: 'local'};\n",
       "        if (window.MathJax) {MathJax.Hub.Config({SVG: {font: \"STIX-Web\"}});}\n",
       "        if (typeof require !== 'undefined') {\n",
       "        require.undef(\"plotly\");\n",
       "        requirejs.config({\n",
       "            paths: {\n",
       "                'plotly': ['https://cdn.plot.ly/plotly-latest.min']\n",
       "            }\n",
       "        });\n",
       "        require(['plotly'], function(Plotly) {\n",
       "            window._Plotly = Plotly;\n",
       "        });\n",
       "        }\n",
       "        </script>\n",
       "        "
      ]
     },
     "metadata": {},
     "output_type": "display_data"
    },
    {
     "data": {
      "application/vnd.plotly.v1+json": {
       "config": {
        "linkText": "Export to plot.ly",
        "plotlyServerURL": "https://plot.ly",
        "showLink": false
       },
       "data": [
        {
         "name": "Ano 2019",
         "type": "bar",
         "x": [
          "Jan-01",
          "Jan-02",
          "Jan-03",
          "Jan-04",
          "Jan-05",
          "Jan-06",
          "Jan-07",
          "Jan-08",
          "Jan-09",
          "Jan-10",
          "Jan-11",
          "Jan-12",
          "Jan-13",
          "Jan-14",
          "Jan-15",
          "Jan-16",
          "Jan-17",
          "Jan-18",
          "Jan-19",
          "Jan-20",
          "Jan-21",
          "Jan-22",
          "Jan-23",
          "Jan-24",
          "Jan-25",
          "Jan-26",
          "Jan-27",
          "Jan-28",
          "Jan-29",
          "Jan-30",
          "Jan-31",
          "Fev-01",
          "Fev-02",
          "Fev-03",
          "Fev-04",
          "Fev-05",
          "Fev-06",
          "Fev-07",
          "Fev-08",
          "Fev-09",
          "Fev-10",
          "Fev-11",
          "Fev-12",
          "Fev-13",
          "Fev-14",
          "Fev-15",
          "Fev-16",
          "Fev-17",
          "Fev-18",
          "Fev-19",
          "Fev-20",
          "Fev-21",
          "Fev-22",
          "Fev-23",
          "Fev-24",
          "Fev-25",
          "Fev-26",
          "Fev-27",
          "Fev-28",
          "Fev-29",
          "Mar-01",
          "Mar-02",
          "Mar-03",
          "Mar-04",
          "Mar-05",
          "Mar-06",
          "Mar-07",
          "Mar-08",
          "Mar-09",
          "Mar-10",
          "Mar-11",
          "Mar-12",
          "Mar-13",
          "Mar-14",
          "Mar-15",
          "Mar-16",
          "Mar-17",
          "Mar-18",
          "Mar-19",
          "Mar-20",
          "Mar-21",
          "Mar-22",
          "Mar-23",
          "Mar-24",
          "Mar-25",
          "Mar-26",
          "Mar-27",
          "Mar-28",
          "Mar-29",
          "Mar-30",
          "Mar-31",
          "Abr-01",
          "Abr-02",
          "Abr-03",
          "Abr-04",
          "Abr-05",
          "Abr-06",
          "Abr-07",
          "Abr-08",
          "Abr-09",
          "Abr-10",
          "Abr-11",
          "Abr-12",
          "Abr-13",
          "Abr-14",
          "Abr-15",
          "Abr-16",
          "Abr-17",
          "Abr-18",
          "Abr-19",
          "Abr-20",
          "Abr-21",
          "Abr-22",
          "Abr-23",
          "Abr-24",
          "Abr-25",
          "Abr-26",
          "Abr-27",
          "Abr-28",
          "Abr-29",
          "Abr-30",
          "Mai-01",
          "Mai-02",
          "Mai-03",
          "Mai-04",
          "Mai-05",
          "Mai-06",
          "Mai-07",
          "Mai-08",
          "Mai-09",
          "Mai-10",
          "Mai-11",
          "Mai-12",
          "Mai-13",
          "Mai-14",
          "Mai-15",
          "Mai-16",
          "Mai-17",
          "Mai-18",
          "Mai-19",
          "Mai-20",
          "Mai-21",
          "Mai-22",
          "Mai-23",
          "Mai-24",
          "Mai-25",
          "Mai-26",
          "Mai-27",
          "Mai-28",
          "Mai-29",
          "Mai-30",
          "Mai-31",
          "Jun-01",
          "Jun-02",
          "Jun-03",
          "Jun-04",
          "Jun-05",
          "Jun-06",
          "Jun-07",
          "Jun-08",
          "Jun-09",
          "Jun-10",
          "Jun-11",
          "Jun-12",
          "Jun-13",
          "Jun-14",
          "Jun-15",
          "Jun-16",
          "Jun-17",
          "Jun-18",
          "Jun-19",
          "Jun-20",
          "Jun-21",
          "Jun-22",
          "Jun-23",
          "Jun-24",
          "Jun-25",
          "Jun-26",
          "Jun-27",
          "Jun-28",
          "Jun-29",
          "Jun-30",
          "Jul-01",
          "Jul-02",
          "Jul-03",
          "Jul-04",
          "Jul-05",
          "Jul-06",
          "Jul-07",
          "Jul-08",
          "Jul-09",
          "Jul-10",
          "Jul-11",
          "Jul-12",
          "Jul-13",
          "Jul-14",
          "Jul-15",
          "Jul-16",
          "Jul-17",
          "Jul-18",
          "Jul-19",
          "Jul-20",
          "Jul-21",
          "Jul-22",
          "Jul-23",
          "Jul-24",
          "Jul-25",
          "Jul-26",
          "Jul-27",
          "Jul-28",
          "Jul-29",
          "Jul-30",
          "Jul-31",
          "Ago-01",
          "Ago-02",
          "Ago-03",
          "Ago-04",
          "Ago-05",
          "Ago-06",
          "Ago-07",
          "Ago-08",
          "Ago-09",
          "Ago-10",
          "Ago-11",
          "Ago-12",
          "Ago-13",
          "Ago-14",
          "Ago-15",
          "Ago-16",
          "Ago-17",
          "Ago-18",
          "Ago-19",
          "Ago-20",
          "Ago-21",
          "Ago-22",
          "Ago-23",
          "Ago-24",
          "Ago-25",
          "Ago-26",
          "Ago-27",
          "Ago-28",
          "Ago-29",
          "Ago-30",
          "Ago-31",
          "Set-01",
          "Set-02",
          "Set-03",
          "Set-04",
          "Set-05",
          "Set-06",
          "Set-07",
          "Set-08",
          "Set-09",
          "Set-10",
          "Set-11",
          "Set-12",
          "Set-13",
          "Set-14",
          "Set-15",
          "Set-16",
          "Set-17",
          "Set-18",
          "Set-19",
          "Set-20",
          "Set-21",
          "Set-22",
          "Set-23",
          "Set-24",
          "Set-25",
          "Set-26",
          "Set-27",
          "Set-28",
          "Set-29",
          "Set-30",
          "Out-01",
          "Out-02",
          "Out-03",
          "Out-04",
          "Out-05",
          "Out-06",
          "Out-07",
          "Out-08",
          "Out-09",
          "Out-10",
          "Out-11",
          "Out-12",
          "Out-13",
          "Out-14",
          "Out-15",
          "Out-16",
          "Out-17",
          "Out-18",
          "Out-19",
          "Out-20",
          "Out-21",
          "Out-22",
          "Out-23",
          "Out-24",
          "Out-25",
          "Out-26",
          "Out-27",
          "Out-28",
          "Out-29",
          "Out-30",
          "Out-31",
          "Nov-01",
          "Nov-02",
          "Nov-03",
          "Nov-04",
          "Nov-05",
          "Nov-06",
          "Nov-07",
          "Nov-08",
          "Nov-09",
          "Nov-10",
          "Nov-11",
          "Nov-12",
          "Nov-13",
          "Nov-14",
          "Nov-15",
          "Nov-16",
          "Nov-17",
          "Nov-18",
          "Nov-19",
          "Nov-20",
          "Nov-21",
          "Nov-22",
          "Nov-23",
          "Nov-24",
          "Nov-25",
          "Nov-26",
          "Nov-27",
          "Nov-28",
          "Nov-29",
          "Nov-30",
          "Dez-01",
          "Dez-02",
          "Dez-03",
          "Dez-04",
          "Dez-05",
          "Dez-06",
          "Dez-07",
          "Dez-08",
          "Dez-09",
          "Dez-10",
          "Dez-11",
          "Dez-12",
          "Dez-13",
          "Dez-14",
          "Dez-15",
          "Dez-16",
          "Dez-17",
          "Dez-18",
          "Dez-19",
          "Dez-20",
          "Dez-21",
          "Dez-22",
          "Dez-23",
          "Dez-24",
          "Dez-25",
          "Dez-26",
          "Dez-27",
          "Dez-28",
          "Dez-29",
          "Dez-30",
          "Dez-31"
         ],
         "y": [
          371,
          386,
          367,
          371,
          367,
          409,
          415,
          376,
          417,
          437,
          408,
          431,
          416,
          483,
          414,
          445,
          413,
          415,
          403,
          414,
          408,
          438,
          445,
          457,
          439,
          416,
          433,
          434,
          445,
          425,
          431,
          401,
          398,
          370,
          381,
          415,
          428,
          395,
          383,
          404,
          381,
          448,
          388,
          367,
          389,
          391,
          379,
          363,
          368,
          395,
          333,
          377,
          346,
          381,
          355,
          354,
          361,
          331,
          353,
          null,
          352,
          340,
          355,
          353,
          335,
          317,
          335,
          333,
          339,
          334,
          334,
          338,
          320,
          335,
          272,
          340,
          317,
          296,
          322,
          334,
          338,
          297,
          320,
          296,
          298,
          318,
          311,
          275,
          283,
          348,
          307,
          330,
          308,
          265,
          285,
          310,
          291,
          325,
          335,
          285,
          323,
          299,
          298,
          294,
          304,
          325,
          313,
          319,
          274,
          288,
          304,
          311,
          327,
          308,
          319,
          270,
          293,
          274,
          305,
          298,
          317,
          276,
          268,
          298,
          310,
          316,
          277,
          310,
          280,
          246,
          336,
          279,
          281,
          272,
          301,
          324,
          284,
          240,
          259,
          261,
          272,
          268,
          276,
          250,
          269,
          300,
          293,
          265,
          266,
          251,
          301,
          285,
          313,
          286,
          287,
          299,
          277,
          250,
          249,
          256,
          232,
          255,
          278,
          250,
          266,
          263,
          312,
          255,
          278,
          269,
          287,
          273,
          262,
          258,
          292,
          293,
          304,
          270,
          260,
          244,
          279,
          269,
          268,
          287,
          277,
          265,
          283,
          261,
          256,
          275,
          257,
          270,
          284,
          289,
          270,
          254,
          252,
          254,
          257,
          255,
          300,
          266,
          252,
          266,
          270,
          242,
          294,
          255,
          256,
          276,
          274,
          232,
          256,
          259,
          289,
          309,
          235,
          245,
          272,
          260,
          301,
          285,
          257,
          230,
          251,
          258,
          245,
          231,
          262,
          263,
          274,
          258,
          265,
          287,
          270,
          302,
          309,
          254,
          291,
          257,
          274,
          288,
          272,
          249,
          263,
          273,
          284,
          283,
          285,
          266,
          266,
          287,
          258,
          243,
          258,
          279,
          249,
          287,
          244,
          295,
          260,
          266,
          264,
          293,
          278,
          253,
          288,
          238,
          253,
          262,
          254,
          273,
          266,
          293,
          271,
          286,
          262,
          292,
          266,
          250,
          266,
          278,
          271,
          271,
          248,
          263,
          272,
          270,
          249,
          262,
          298,
          282,
          288,
          278,
          298,
          304,
          310,
          296,
          302,
          303,
          321,
          319,
          291,
          326,
          305,
          310,
          297,
          299,
          321,
          301,
          299,
          300,
          314,
          290,
          286,
          307,
          310,
          299,
          315,
          321,
          300,
          318,
          301,
          352,
          309,
          328,
          347,
          309,
          304,
          330,
          335,
          327,
          319,
          324,
          325,
          289,
          310,
          300,
          271,
          341,
          312,
          305,
          300,
          332,
          335,
          333,
          336,
          299,
          332,
          335,
          335,
          267,
          317,
          356,
          337,
          342,
          345,
          322,
          335,
          329,
          314,
          350,
          318,
          354,
          339,
          345
         ]
        },
        {
         "name": "Ano 2020",
         "type": "bar",
         "x": [
          "Jan-01",
          "Jan-02",
          "Jan-03",
          "Jan-04",
          "Jan-05",
          "Jan-06",
          "Jan-07",
          "Jan-08",
          "Jan-09",
          "Jan-10",
          "Jan-11",
          "Jan-12",
          "Jan-13",
          "Jan-14",
          "Jan-15",
          "Jan-16",
          "Jan-17",
          "Jan-18",
          "Jan-19",
          "Jan-20",
          "Jan-21",
          "Jan-22",
          "Jan-23",
          "Jan-24",
          "Jan-25",
          "Jan-26",
          "Jan-27",
          "Jan-28",
          "Jan-29",
          "Jan-30",
          "Jan-31",
          "Fev-01",
          "Fev-02",
          "Fev-03",
          "Fev-04",
          "Fev-05",
          "Fev-06",
          "Fev-07",
          "Fev-08",
          "Fev-09",
          "Fev-10",
          "Fev-11",
          "Fev-12",
          "Fev-13",
          "Fev-14",
          "Fev-15",
          "Fev-16",
          "Fev-17",
          "Fev-18",
          "Fev-19",
          "Fev-20",
          "Fev-21",
          "Fev-22",
          "Fev-23",
          "Fev-24",
          "Fev-25",
          "Fev-26",
          "Fev-27",
          "Fev-28",
          "Fev-29",
          "Mar-01",
          "Mar-02",
          "Mar-03",
          "Mar-04",
          "Mar-05",
          "Mar-06",
          "Mar-07",
          "Mar-08",
          "Mar-09",
          "Mar-10",
          "Mar-11",
          "Mar-12",
          "Mar-13",
          "Mar-14",
          "Mar-15",
          "Mar-16",
          "Mar-17",
          "Mar-18",
          "Mar-19",
          "Mar-20",
          "Mar-21",
          "Mar-22",
          "Mar-23",
          "Mar-24",
          "Mar-25",
          "Mar-26",
          "Mar-27",
          "Mar-28",
          "Mar-29",
          "Mar-30",
          "Mar-31",
          "Abr-01",
          "Abr-02",
          "Abr-03",
          "Abr-04",
          "Abr-05",
          "Abr-06",
          "Abr-07",
          "Abr-08",
          "Abr-09",
          "Abr-10",
          "Abr-11",
          "Abr-12",
          "Abr-13",
          "Abr-14",
          "Abr-15",
          "Abr-16",
          "Abr-17",
          "Abr-18",
          "Abr-19",
          "Abr-20",
          "Abr-21",
          "Abr-22",
          "Abr-23",
          "Abr-24",
          "Abr-25",
          "Abr-26",
          "Abr-27",
          "Abr-28",
          "Abr-29",
          "Abr-30",
          "Mai-01",
          "Mai-02",
          "Mai-03",
          "Mai-04",
          "Mai-05",
          "Mai-06",
          "Mai-07",
          "Mai-08",
          "Mai-09",
          "Mai-10",
          "Mai-11",
          "Mai-12",
          "Mai-13",
          "Mai-14",
          "Mai-15",
          "Mai-16",
          "Mai-17",
          "Mai-18",
          "Mai-19",
          "Mai-20",
          "Mai-21",
          "Mai-22",
          "Mai-23",
          "Mai-24",
          "Mai-25",
          "Mai-26",
          "Mai-27",
          "Mai-28",
          "Mai-29",
          "Mai-30",
          "Mai-31",
          "Jun-01",
          "Jun-02",
          "Jun-03",
          "Jun-04",
          "Jun-05",
          "Jun-06",
          "Jun-07",
          "Jun-08",
          "Jun-09",
          "Jun-10",
          "Jun-11",
          "Jun-12",
          "Jun-13",
          "Jun-14",
          "Jun-15",
          "Jun-16",
          "Jun-17",
          "Jun-18",
          "Jun-19",
          "Jun-20",
          "Jun-21",
          "Jun-22",
          "Jun-23",
          "Jun-24",
          "Jun-25",
          "Jun-26",
          "Jun-27",
          "Jun-28",
          "Jun-29",
          "Jun-30",
          "Jul-01",
          "Jul-02",
          "Jul-03",
          "Jul-04",
          "Jul-05",
          "Jul-06",
          "Jul-07",
          "Jul-08",
          "Jul-09",
          "Jul-10",
          "Jul-11",
          "Jul-12",
          "Jul-13",
          "Jul-14",
          "Jul-15",
          "Jul-16",
          "Jul-17",
          "Jul-18",
          "Jul-19",
          "Jul-20",
          "Jul-21",
          "Jul-22",
          "Jul-23",
          "Jul-24",
          "Jul-25",
          "Jul-26",
          "Jul-27",
          "Jul-28",
          "Jul-29",
          "Jul-30",
          "Jul-31",
          "Ago-01",
          "Ago-02",
          "Ago-03",
          "Ago-04",
          "Ago-05",
          "Ago-06",
          "Ago-07",
          "Ago-08",
          "Ago-09",
          "Ago-10",
          "Ago-11",
          "Ago-12",
          "Ago-13",
          "Ago-14",
          "Ago-15",
          "Ago-16",
          "Ago-17",
          "Ago-18",
          "Ago-19",
          "Ago-20",
          "Ago-21",
          "Ago-22",
          "Ago-23",
          "Ago-24",
          "Ago-25",
          "Ago-26",
          "Ago-27",
          "Ago-28",
          "Ago-29",
          "Ago-30",
          "Ago-31",
          "Set-01",
          "Set-02",
          "Set-03",
          "Set-04",
          "Set-05",
          "Set-06",
          "Set-07",
          "Set-08",
          "Set-09",
          "Set-10",
          "Set-11",
          "Set-12",
          "Set-13",
          "Set-14",
          "Set-15",
          "Set-16",
          "Set-17",
          "Set-18",
          "Set-19",
          "Set-20",
          "Set-21",
          "Set-22",
          "Set-23",
          "Set-24",
          "Set-25",
          "Set-26",
          "Set-27",
          "Set-28",
          "Set-29",
          "Set-30",
          "Out-01",
          "Out-02",
          "Out-03",
          "Out-04",
          "Out-05",
          "Out-06",
          "Out-07",
          "Out-08",
          "Out-09",
          "Out-10",
          "Out-11",
          "Out-12",
          "Out-13",
          "Out-14",
          "Out-15",
          "Out-16",
          "Out-17",
          "Out-18",
          "Out-19",
          "Out-20",
          "Out-21",
          "Out-22",
          "Out-23",
          "Out-24",
          "Out-25",
          "Out-26",
          "Out-27",
          "Out-28",
          "Out-29",
          "Out-30",
          "Out-31",
          "Nov-01",
          "Nov-02",
          "Nov-03",
          "Nov-04",
          "Nov-05",
          "Nov-06",
          "Nov-07",
          "Nov-08",
          "Nov-09",
          "Nov-10",
          "Nov-11",
          "Nov-12",
          "Nov-13",
          "Nov-14",
          "Nov-15",
          "Nov-16",
          "Nov-17",
          "Nov-18",
          "Nov-19",
          "Nov-20",
          "Nov-21",
          "Nov-22",
          "Nov-23",
          "Nov-24",
          "Nov-25",
          "Nov-26",
          "Nov-27",
          "Nov-28",
          "Nov-29",
          "Nov-30",
          "Dez-01",
          "Dez-02",
          "Dez-03",
          "Dez-04",
          "Dez-05",
          "Dez-06",
          "Dez-07",
          "Dez-08",
          "Dez-09",
          "Dez-10",
          "Dez-11",
          "Dez-12",
          "Dez-13",
          "Dez-14",
          "Dez-15",
          "Dez-16",
          "Dez-17",
          "Dez-18",
          "Dez-19",
          "Dez-20",
          "Dez-21",
          "Dez-22",
          "Dez-23",
          "Dez-24",
          "Dez-25",
          "Dez-26",
          "Dez-27",
          "Dez-28",
          "Dez-29",
          "Dez-30",
          "Dez-31"
         ],
         "y": [
          376,
          381,
          374,
          364,
          333,
          364,
          382,
          384,
          380,
          376,
          378,
          405,
          405,
          397,
          426,
          388,
          389,
          388,
          382,
          375,
          356,
          377,
          402,
          380,
          413,
          373,
          412,
          375,
          367,
          378,
          392,
          383,
          383,
          399,
          379,
          356,
          344,
          352,
          337,
          330,
          331,
          324,
          336,
          333,
          316,
          331,
          311,
          362,
          313,
          340,
          316,
          350,
          352,
          330,
          333,
          328,
          316,
          357,
          317,
          319,
          333,
          312,
          328,
          300,
          305,
          314,
          321,
          301,
          337,
          339,
          349,
          344,
          346,
          338,
          312,
          346,
          339,
          333,
          369,
          365,
          353,
          335,
          327,
          379,
          360,
          389,
          368,
          363,
          366,
          369,
          378,
          381,
          376,
          388,
          422,
          342,
          377,
          385,
          390,
          383,
          359,
          348,
          371,
          370,
          339,
          340,
          348,
          351,
          329,
          308,
          352,
          311,
          327,
          336,
          327,
          337,
          318,
          307,
          324,
          277,
          302,
          337,
          305,
          318,
          313,
          325,
          316,
          332,
          318,
          304,
          265,
          290,
          329,
          266,
          297,
          270,
          303,
          304,
          293,
          292,
          292,
          null,
          260,
          259,
          7,
          null,
          null,
          null,
          null,
          null,
          null,
          null,
          null,
          null,
          null,
          null,
          null,
          null,
          null,
          null,
          null,
          null,
          null,
          null,
          null,
          null,
          null,
          null,
          null,
          null,
          null,
          null,
          null,
          null,
          null,
          null,
          null,
          null,
          null,
          null,
          null,
          null,
          null,
          null,
          null,
          null,
          null,
          null,
          null,
          null,
          null,
          null,
          null,
          null,
          null,
          null,
          null,
          null,
          null,
          null,
          null,
          null,
          null,
          null,
          null,
          null,
          null,
          null,
          null,
          null,
          null,
          null,
          null,
          null,
          null,
          null,
          null,
          null,
          null,
          null,
          null,
          null,
          null,
          null,
          null,
          null,
          null,
          null,
          null,
          null,
          null,
          null,
          null,
          null,
          null,
          null,
          null,
          null,
          null,
          null,
          null,
          null,
          null,
          null,
          null,
          null,
          null,
          null,
          null,
          null,
          null,
          null,
          null,
          null,
          null,
          null,
          null,
          null,
          null,
          null,
          null,
          null,
          null,
          null,
          null,
          null,
          null,
          null,
          null,
          null,
          null,
          null,
          null,
          null,
          null,
          null,
          null,
          null,
          null,
          null,
          null,
          null,
          null,
          null,
          null,
          null,
          null,
          null,
          null,
          null,
          null,
          null,
          null,
          null,
          null,
          null,
          null,
          null,
          null,
          null,
          null,
          null,
          null,
          null,
          null,
          null,
          null,
          null,
          null,
          null,
          null,
          null,
          null,
          null,
          null,
          null,
          null,
          null,
          null,
          null,
          null,
          null,
          null,
          null,
          null,
          null,
          null,
          null,
          null,
          null,
          null,
          null,
          null,
          null,
          null,
          null,
          null,
          null,
          null,
          null,
          null,
          null,
          null,
          null,
          null,
          null,
          null,
          null,
          null,
          null,
          null,
          null,
          null,
          null,
          null,
          null,
          null,
          null,
          null,
          null,
          null,
          null,
          null,
          null,
          null,
          null
         ]
        }
       ],
       "layout": {
        "template": {
         "data": {
          "bar": [
           {
            "error_x": {
             "color": "#2a3f5f"
            },
            "error_y": {
             "color": "#2a3f5f"
            },
            "marker": {
             "line": {
              "color": "#E5ECF6",
              "width": 0.5
             }
            },
            "type": "bar"
           }
          ],
          "barpolar": [
           {
            "marker": {
             "line": {
              "color": "#E5ECF6",
              "width": 0.5
             }
            },
            "type": "barpolar"
           }
          ],
          "carpet": [
           {
            "aaxis": {
             "endlinecolor": "#2a3f5f",
             "gridcolor": "white",
             "linecolor": "white",
             "minorgridcolor": "white",
             "startlinecolor": "#2a3f5f"
            },
            "baxis": {
             "endlinecolor": "#2a3f5f",
             "gridcolor": "white",
             "linecolor": "white",
             "minorgridcolor": "white",
             "startlinecolor": "#2a3f5f"
            },
            "type": "carpet"
           }
          ],
          "choropleth": [
           {
            "colorbar": {
             "outlinewidth": 0,
             "ticks": ""
            },
            "type": "choropleth"
           }
          ],
          "contour": [
           {
            "colorbar": {
             "outlinewidth": 0,
             "ticks": ""
            },
            "colorscale": [
             [
              0,
              "#0d0887"
             ],
             [
              0.1111111111111111,
              "#46039f"
             ],
             [
              0.2222222222222222,
              "#7201a8"
             ],
             [
              0.3333333333333333,
              "#9c179e"
             ],
             [
              0.4444444444444444,
              "#bd3786"
             ],
             [
              0.5555555555555556,
              "#d8576b"
             ],
             [
              0.6666666666666666,
              "#ed7953"
             ],
             [
              0.7777777777777778,
              "#fb9f3a"
             ],
             [
              0.8888888888888888,
              "#fdca26"
             ],
             [
              1,
              "#f0f921"
             ]
            ],
            "type": "contour"
           }
          ],
          "contourcarpet": [
           {
            "colorbar": {
             "outlinewidth": 0,
             "ticks": ""
            },
            "type": "contourcarpet"
           }
          ],
          "heatmap": [
           {
            "colorbar": {
             "outlinewidth": 0,
             "ticks": ""
            },
            "colorscale": [
             [
              0,
              "#0d0887"
             ],
             [
              0.1111111111111111,
              "#46039f"
             ],
             [
              0.2222222222222222,
              "#7201a8"
             ],
             [
              0.3333333333333333,
              "#9c179e"
             ],
             [
              0.4444444444444444,
              "#bd3786"
             ],
             [
              0.5555555555555556,
              "#d8576b"
             ],
             [
              0.6666666666666666,
              "#ed7953"
             ],
             [
              0.7777777777777778,
              "#fb9f3a"
             ],
             [
              0.8888888888888888,
              "#fdca26"
             ],
             [
              1,
              "#f0f921"
             ]
            ],
            "type": "heatmap"
           }
          ],
          "heatmapgl": [
           {
            "colorbar": {
             "outlinewidth": 0,
             "ticks": ""
            },
            "colorscale": [
             [
              0,
              "#0d0887"
             ],
             [
              0.1111111111111111,
              "#46039f"
             ],
             [
              0.2222222222222222,
              "#7201a8"
             ],
             [
              0.3333333333333333,
              "#9c179e"
             ],
             [
              0.4444444444444444,
              "#bd3786"
             ],
             [
              0.5555555555555556,
              "#d8576b"
             ],
             [
              0.6666666666666666,
              "#ed7953"
             ],
             [
              0.7777777777777778,
              "#fb9f3a"
             ],
             [
              0.8888888888888888,
              "#fdca26"
             ],
             [
              1,
              "#f0f921"
             ]
            ],
            "type": "heatmapgl"
           }
          ],
          "histogram": [
           {
            "marker": {
             "colorbar": {
              "outlinewidth": 0,
              "ticks": ""
             }
            },
            "type": "histogram"
           }
          ],
          "histogram2d": [
           {
            "colorbar": {
             "outlinewidth": 0,
             "ticks": ""
            },
            "colorscale": [
             [
              0,
              "#0d0887"
             ],
             [
              0.1111111111111111,
              "#46039f"
             ],
             [
              0.2222222222222222,
              "#7201a8"
             ],
             [
              0.3333333333333333,
              "#9c179e"
             ],
             [
              0.4444444444444444,
              "#bd3786"
             ],
             [
              0.5555555555555556,
              "#d8576b"
             ],
             [
              0.6666666666666666,
              "#ed7953"
             ],
             [
              0.7777777777777778,
              "#fb9f3a"
             ],
             [
              0.8888888888888888,
              "#fdca26"
             ],
             [
              1,
              "#f0f921"
             ]
            ],
            "type": "histogram2d"
           }
          ],
          "histogram2dcontour": [
           {
            "colorbar": {
             "outlinewidth": 0,
             "ticks": ""
            },
            "colorscale": [
             [
              0,
              "#0d0887"
             ],
             [
              0.1111111111111111,
              "#46039f"
             ],
             [
              0.2222222222222222,
              "#7201a8"
             ],
             [
              0.3333333333333333,
              "#9c179e"
             ],
             [
              0.4444444444444444,
              "#bd3786"
             ],
             [
              0.5555555555555556,
              "#d8576b"
             ],
             [
              0.6666666666666666,
              "#ed7953"
             ],
             [
              0.7777777777777778,
              "#fb9f3a"
             ],
             [
              0.8888888888888888,
              "#fdca26"
             ],
             [
              1,
              "#f0f921"
             ]
            ],
            "type": "histogram2dcontour"
           }
          ],
          "mesh3d": [
           {
            "colorbar": {
             "outlinewidth": 0,
             "ticks": ""
            },
            "type": "mesh3d"
           }
          ],
          "parcoords": [
           {
            "line": {
             "colorbar": {
              "outlinewidth": 0,
              "ticks": ""
             }
            },
            "type": "parcoords"
           }
          ],
          "pie": [
           {
            "automargin": true,
            "type": "pie"
           }
          ],
          "scatter": [
           {
            "marker": {
             "colorbar": {
              "outlinewidth": 0,
              "ticks": ""
             }
            },
            "type": "scatter"
           }
          ],
          "scatter3d": [
           {
            "line": {
             "colorbar": {
              "outlinewidth": 0,
              "ticks": ""
             }
            },
            "marker": {
             "colorbar": {
              "outlinewidth": 0,
              "ticks": ""
             }
            },
            "type": "scatter3d"
           }
          ],
          "scattercarpet": [
           {
            "marker": {
             "colorbar": {
              "outlinewidth": 0,
              "ticks": ""
             }
            },
            "type": "scattercarpet"
           }
          ],
          "scattergeo": [
           {
            "marker": {
             "colorbar": {
              "outlinewidth": 0,
              "ticks": ""
             }
            },
            "type": "scattergeo"
           }
          ],
          "scattergl": [
           {
            "marker": {
             "colorbar": {
              "outlinewidth": 0,
              "ticks": ""
             }
            },
            "type": "scattergl"
           }
          ],
          "scattermapbox": [
           {
            "marker": {
             "colorbar": {
              "outlinewidth": 0,
              "ticks": ""
             }
            },
            "type": "scattermapbox"
           }
          ],
          "scatterpolar": [
           {
            "marker": {
             "colorbar": {
              "outlinewidth": 0,
              "ticks": ""
             }
            },
            "type": "scatterpolar"
           }
          ],
          "scatterpolargl": [
           {
            "marker": {
             "colorbar": {
              "outlinewidth": 0,
              "ticks": ""
             }
            },
            "type": "scatterpolargl"
           }
          ],
          "scatterternary": [
           {
            "marker": {
             "colorbar": {
              "outlinewidth": 0,
              "ticks": ""
             }
            },
            "type": "scatterternary"
           }
          ],
          "surface": [
           {
            "colorbar": {
             "outlinewidth": 0,
             "ticks": ""
            },
            "colorscale": [
             [
              0,
              "#0d0887"
             ],
             [
              0.1111111111111111,
              "#46039f"
             ],
             [
              0.2222222222222222,
              "#7201a8"
             ],
             [
              0.3333333333333333,
              "#9c179e"
             ],
             [
              0.4444444444444444,
              "#bd3786"
             ],
             [
              0.5555555555555556,
              "#d8576b"
             ],
             [
              0.6666666666666666,
              "#ed7953"
             ],
             [
              0.7777777777777778,
              "#fb9f3a"
             ],
             [
              0.8888888888888888,
              "#fdca26"
             ],
             [
              1,
              "#f0f921"
             ]
            ],
            "type": "surface"
           }
          ],
          "table": [
           {
            "cells": {
             "fill": {
              "color": "#EBF0F8"
             },
             "line": {
              "color": "white"
             }
            },
            "header": {
             "fill": {
              "color": "#C8D4E3"
             },
             "line": {
              "color": "white"
             }
            },
            "type": "table"
           }
          ]
         },
         "layout": {
          "annotationdefaults": {
           "arrowcolor": "#2a3f5f",
           "arrowhead": 0,
           "arrowwidth": 1
          },
          "coloraxis": {
           "colorbar": {
            "outlinewidth": 0,
            "ticks": ""
           }
          },
          "colorscale": {
           "diverging": [
            [
             0,
             "#8e0152"
            ],
            [
             0.1,
             "#c51b7d"
            ],
            [
             0.2,
             "#de77ae"
            ],
            [
             0.3,
             "#f1b6da"
            ],
            [
             0.4,
             "#fde0ef"
            ],
            [
             0.5,
             "#f7f7f7"
            ],
            [
             0.6,
             "#e6f5d0"
            ],
            [
             0.7,
             "#b8e186"
            ],
            [
             0.8,
             "#7fbc41"
            ],
            [
             0.9,
             "#4d9221"
            ],
            [
             1,
             "#276419"
            ]
           ],
           "sequential": [
            [
             0,
             "#0d0887"
            ],
            [
             0.1111111111111111,
             "#46039f"
            ],
            [
             0.2222222222222222,
             "#7201a8"
            ],
            [
             0.3333333333333333,
             "#9c179e"
            ],
            [
             0.4444444444444444,
             "#bd3786"
            ],
            [
             0.5555555555555556,
             "#d8576b"
            ],
            [
             0.6666666666666666,
             "#ed7953"
            ],
            [
             0.7777777777777778,
             "#fb9f3a"
            ],
            [
             0.8888888888888888,
             "#fdca26"
            ],
            [
             1,
             "#f0f921"
            ]
           ],
           "sequentialminus": [
            [
             0,
             "#0d0887"
            ],
            [
             0.1111111111111111,
             "#46039f"
            ],
            [
             0.2222222222222222,
             "#7201a8"
            ],
            [
             0.3333333333333333,
             "#9c179e"
            ],
            [
             0.4444444444444444,
             "#bd3786"
            ],
            [
             0.5555555555555556,
             "#d8576b"
            ],
            [
             0.6666666666666666,
             "#ed7953"
            ],
            [
             0.7777777777777778,
             "#fb9f3a"
            ],
            [
             0.8888888888888888,
             "#fdca26"
            ],
            [
             1,
             "#f0f921"
            ]
           ]
          },
          "colorway": [
           "#636efa",
           "#EF553B",
           "#00cc96",
           "#ab63fa",
           "#FFA15A",
           "#19d3f3",
           "#FF6692",
           "#B6E880",
           "#FF97FF",
           "#FECB52"
          ],
          "font": {
           "color": "#2a3f5f"
          },
          "geo": {
           "bgcolor": "white",
           "lakecolor": "white",
           "landcolor": "#E5ECF6",
           "showlakes": true,
           "showland": true,
           "subunitcolor": "white"
          },
          "hoverlabel": {
           "align": "left"
          },
          "hovermode": "closest",
          "mapbox": {
           "style": "light"
          },
          "paper_bgcolor": "white",
          "plot_bgcolor": "#E5ECF6",
          "polar": {
           "angularaxis": {
            "gridcolor": "white",
            "linecolor": "white",
            "ticks": ""
           },
           "bgcolor": "#E5ECF6",
           "radialaxis": {
            "gridcolor": "white",
            "linecolor": "white",
            "ticks": ""
           }
          },
          "scene": {
           "xaxis": {
            "backgroundcolor": "#E5ECF6",
            "gridcolor": "white",
            "gridwidth": 2,
            "linecolor": "white",
            "showbackground": true,
            "ticks": "",
            "zerolinecolor": "white"
           },
           "yaxis": {
            "backgroundcolor": "#E5ECF6",
            "gridcolor": "white",
            "gridwidth": 2,
            "linecolor": "white",
            "showbackground": true,
            "ticks": "",
            "zerolinecolor": "white"
           },
           "zaxis": {
            "backgroundcolor": "#E5ECF6",
            "gridcolor": "white",
            "gridwidth": 2,
            "linecolor": "white",
            "showbackground": true,
            "ticks": "",
            "zerolinecolor": "white"
           }
          },
          "shapedefaults": {
           "line": {
            "color": "#2a3f5f"
           }
          },
          "ternary": {
           "aaxis": {
            "gridcolor": "white",
            "linecolor": "white",
            "ticks": ""
           },
           "baxis": {
            "gridcolor": "white",
            "linecolor": "white",
            "ticks": ""
           },
           "bgcolor": "#E5ECF6",
           "caxis": {
            "gridcolor": "white",
            "linecolor": "white",
            "ticks": ""
           }
          },
          "title": {
           "x": 0.05
          },
          "xaxis": {
           "automargin": true,
           "gridcolor": "white",
           "linecolor": "white",
           "ticks": "",
           "title": {
            "standoff": 15
           },
           "zerolinecolor": "white",
           "zerolinewidth": 2
          },
          "yaxis": {
           "automargin": true,
           "gridcolor": "white",
           "linecolor": "white",
           "ticks": "",
           "title": {
            "standoff": 15
           },
           "zerolinecolor": "white",
           "zerolinewidth": 2
          }
         }
        }
       }
      },
      "text/html": [
       "<div>\n",
       "        \n",
       "        \n",
       "            <div id=\"1eeb5619-0c7a-4581-849a-d838e6733893\" class=\"plotly-graph-div\" style=\"height:525px; width:100%;\"></div>\n",
       "            <script type=\"text/javascript\">\n",
       "                require([\"plotly\"], function(Plotly) {\n",
       "                    window.PLOTLYENV=window.PLOTLYENV || {};\n",
       "                    \n",
       "                if (document.getElementById(\"1eeb5619-0c7a-4581-849a-d838e6733893\")) {\n",
       "                    Plotly.newPlot(\n",
       "                        '1eeb5619-0c7a-4581-849a-d838e6733893',\n",
       "                        [{\"name\": \"Ano 2019\", \"type\": \"bar\", \"x\": [\"Jan-01\", \"Jan-02\", \"Jan-03\", \"Jan-04\", \"Jan-05\", \"Jan-06\", \"Jan-07\", \"Jan-08\", \"Jan-09\", \"Jan-10\", \"Jan-11\", \"Jan-12\", \"Jan-13\", \"Jan-14\", \"Jan-15\", \"Jan-16\", \"Jan-17\", \"Jan-18\", \"Jan-19\", \"Jan-20\", \"Jan-21\", \"Jan-22\", \"Jan-23\", \"Jan-24\", \"Jan-25\", \"Jan-26\", \"Jan-27\", \"Jan-28\", \"Jan-29\", \"Jan-30\", \"Jan-31\", \"Fev-01\", \"Fev-02\", \"Fev-03\", \"Fev-04\", \"Fev-05\", \"Fev-06\", \"Fev-07\", \"Fev-08\", \"Fev-09\", \"Fev-10\", \"Fev-11\", \"Fev-12\", \"Fev-13\", \"Fev-14\", \"Fev-15\", \"Fev-16\", \"Fev-17\", \"Fev-18\", \"Fev-19\", \"Fev-20\", \"Fev-21\", \"Fev-22\", \"Fev-23\", \"Fev-24\", \"Fev-25\", \"Fev-26\", \"Fev-27\", \"Fev-28\", \"Fev-29\", \"Mar-01\", \"Mar-02\", \"Mar-03\", \"Mar-04\", \"Mar-05\", \"Mar-06\", \"Mar-07\", \"Mar-08\", \"Mar-09\", \"Mar-10\", \"Mar-11\", \"Mar-12\", \"Mar-13\", \"Mar-14\", \"Mar-15\", \"Mar-16\", \"Mar-17\", \"Mar-18\", \"Mar-19\", \"Mar-20\", \"Mar-21\", \"Mar-22\", \"Mar-23\", \"Mar-24\", \"Mar-25\", \"Mar-26\", \"Mar-27\", \"Mar-28\", \"Mar-29\", \"Mar-30\", \"Mar-31\", \"Abr-01\", \"Abr-02\", \"Abr-03\", \"Abr-04\", \"Abr-05\", \"Abr-06\", \"Abr-07\", \"Abr-08\", \"Abr-09\", \"Abr-10\", \"Abr-11\", \"Abr-12\", \"Abr-13\", \"Abr-14\", \"Abr-15\", \"Abr-16\", \"Abr-17\", \"Abr-18\", \"Abr-19\", \"Abr-20\", \"Abr-21\", \"Abr-22\", \"Abr-23\", \"Abr-24\", \"Abr-25\", \"Abr-26\", \"Abr-27\", \"Abr-28\", \"Abr-29\", \"Abr-30\", \"Mai-01\", \"Mai-02\", \"Mai-03\", \"Mai-04\", \"Mai-05\", \"Mai-06\", \"Mai-07\", \"Mai-08\", \"Mai-09\", \"Mai-10\", \"Mai-11\", \"Mai-12\", \"Mai-13\", \"Mai-14\", \"Mai-15\", \"Mai-16\", \"Mai-17\", \"Mai-18\", \"Mai-19\", \"Mai-20\", \"Mai-21\", \"Mai-22\", \"Mai-23\", \"Mai-24\", \"Mai-25\", \"Mai-26\", \"Mai-27\", \"Mai-28\", \"Mai-29\", \"Mai-30\", \"Mai-31\", \"Jun-01\", \"Jun-02\", \"Jun-03\", \"Jun-04\", \"Jun-05\", \"Jun-06\", \"Jun-07\", \"Jun-08\", \"Jun-09\", \"Jun-10\", \"Jun-11\", \"Jun-12\", \"Jun-13\", \"Jun-14\", \"Jun-15\", \"Jun-16\", \"Jun-17\", \"Jun-18\", \"Jun-19\", \"Jun-20\", \"Jun-21\", \"Jun-22\", \"Jun-23\", \"Jun-24\", \"Jun-25\", \"Jun-26\", \"Jun-27\", \"Jun-28\", \"Jun-29\", \"Jun-30\", \"Jul-01\", \"Jul-02\", \"Jul-03\", \"Jul-04\", \"Jul-05\", \"Jul-06\", \"Jul-07\", \"Jul-08\", \"Jul-09\", \"Jul-10\", \"Jul-11\", \"Jul-12\", \"Jul-13\", \"Jul-14\", \"Jul-15\", \"Jul-16\", \"Jul-17\", \"Jul-18\", \"Jul-19\", \"Jul-20\", \"Jul-21\", \"Jul-22\", \"Jul-23\", \"Jul-24\", \"Jul-25\", \"Jul-26\", \"Jul-27\", \"Jul-28\", \"Jul-29\", \"Jul-30\", \"Jul-31\", \"Ago-01\", \"Ago-02\", \"Ago-03\", \"Ago-04\", \"Ago-05\", \"Ago-06\", \"Ago-07\", \"Ago-08\", \"Ago-09\", \"Ago-10\", \"Ago-11\", \"Ago-12\", \"Ago-13\", \"Ago-14\", \"Ago-15\", \"Ago-16\", \"Ago-17\", \"Ago-18\", \"Ago-19\", \"Ago-20\", \"Ago-21\", \"Ago-22\", \"Ago-23\", \"Ago-24\", \"Ago-25\", \"Ago-26\", \"Ago-27\", \"Ago-28\", \"Ago-29\", \"Ago-30\", \"Ago-31\", \"Set-01\", \"Set-02\", \"Set-03\", \"Set-04\", \"Set-05\", \"Set-06\", \"Set-07\", \"Set-08\", \"Set-09\", \"Set-10\", \"Set-11\", \"Set-12\", \"Set-13\", \"Set-14\", \"Set-15\", \"Set-16\", \"Set-17\", \"Set-18\", \"Set-19\", \"Set-20\", \"Set-21\", \"Set-22\", \"Set-23\", \"Set-24\", \"Set-25\", \"Set-26\", \"Set-27\", \"Set-28\", \"Set-29\", \"Set-30\", \"Out-01\", \"Out-02\", \"Out-03\", \"Out-04\", \"Out-05\", \"Out-06\", \"Out-07\", \"Out-08\", \"Out-09\", \"Out-10\", \"Out-11\", \"Out-12\", \"Out-13\", \"Out-14\", \"Out-15\", \"Out-16\", \"Out-17\", \"Out-18\", \"Out-19\", \"Out-20\", \"Out-21\", \"Out-22\", \"Out-23\", \"Out-24\", \"Out-25\", \"Out-26\", \"Out-27\", \"Out-28\", \"Out-29\", \"Out-30\", \"Out-31\", \"Nov-01\", \"Nov-02\", \"Nov-03\", \"Nov-04\", \"Nov-05\", \"Nov-06\", \"Nov-07\", \"Nov-08\", \"Nov-09\", \"Nov-10\", \"Nov-11\", \"Nov-12\", \"Nov-13\", \"Nov-14\", \"Nov-15\", \"Nov-16\", \"Nov-17\", \"Nov-18\", \"Nov-19\", \"Nov-20\", \"Nov-21\", \"Nov-22\", \"Nov-23\", \"Nov-24\", \"Nov-25\", \"Nov-26\", \"Nov-27\", \"Nov-28\", \"Nov-29\", \"Nov-30\", \"Dez-01\", \"Dez-02\", \"Dez-03\", \"Dez-04\", \"Dez-05\", \"Dez-06\", \"Dez-07\", \"Dez-08\", \"Dez-09\", \"Dez-10\", \"Dez-11\", \"Dez-12\", \"Dez-13\", \"Dez-14\", \"Dez-15\", \"Dez-16\", \"Dez-17\", \"Dez-18\", \"Dez-19\", \"Dez-20\", \"Dez-21\", \"Dez-22\", \"Dez-23\", \"Dez-24\", \"Dez-25\", \"Dez-26\", \"Dez-27\", \"Dez-28\", \"Dez-29\", \"Dez-30\", \"Dez-31\"], \"y\": [371.0, 386.0, 367.0, 371.0, 367.0, 409.0, 415.0, 376.0, 417.0, 437.0, 408.0, 431.0, 416.0, 483.0, 414.0, 445.0, 413.0, 415.0, 403.0, 414.0, 408.0, 438.0, 445.0, 457.0, 439.0, 416.0, 433.0, 434.0, 445.0, 425.0, 431.0, 401.0, 398.0, 370.0, 381.0, 415.0, 428.0, 395.0, 383.0, 404.0, 381.0, 448.0, 388.0, 367.0, 389.0, 391.0, 379.0, 363.0, 368.0, 395.0, 333.0, 377.0, 346.0, 381.0, 355.0, 354.0, 361.0, 331.0, 353.0, null, 352.0, 340.0, 355.0, 353.0, 335.0, 317.0, 335.0, 333.0, 339.0, 334.0, 334.0, 338.0, 320.0, 335.0, 272.0, 340.0, 317.0, 296.0, 322.0, 334.0, 338.0, 297.0, 320.0, 296.0, 298.0, 318.0, 311.0, 275.0, 283.0, 348.0, 307.0, 330.0, 308.0, 265.0, 285.0, 310.0, 291.0, 325.0, 335.0, 285.0, 323.0, 299.0, 298.0, 294.0, 304.0, 325.0, 313.0, 319.0, 274.0, 288.0, 304.0, 311.0, 327.0, 308.0, 319.0, 270.0, 293.0, 274.0, 305.0, 298.0, 317.0, 276.0, 268.0, 298.0, 310.0, 316.0, 277.0, 310.0, 280.0, 246.0, 336.0, 279.0, 281.0, 272.0, 301.0, 324.0, 284.0, 240.0, 259.0, 261.0, 272.0, 268.0, 276.0, 250.0, 269.0, 300.0, 293.0, 265.0, 266.0, 251.0, 301.0, 285.0, 313.0, 286.0, 287.0, 299.0, 277.0, 250.0, 249.0, 256.0, 232.0, 255.0, 278.0, 250.0, 266.0, 263.0, 312.0, 255.0, 278.0, 269.0, 287.0, 273.0, 262.0, 258.0, 292.0, 293.0, 304.0, 270.0, 260.0, 244.0, 279.0, 269.0, 268.0, 287.0, 277.0, 265.0, 283.0, 261.0, 256.0, 275.0, 257.0, 270.0, 284.0, 289.0, 270.0, 254.0, 252.0, 254.0, 257.0, 255.0, 300.0, 266.0, 252.0, 266.0, 270.0, 242.0, 294.0, 255.0, 256.0, 276.0, 274.0, 232.0, 256.0, 259.0, 289.0, 309.0, 235.0, 245.0, 272.0, 260.0, 301.0, 285.0, 257.0, 230.0, 251.0, 258.0, 245.0, 231.0, 262.0, 263.0, 274.0, 258.0, 265.0, 287.0, 270.0, 302.0, 309.0, 254.0, 291.0, 257.0, 274.0, 288.0, 272.0, 249.0, 263.0, 273.0, 284.0, 283.0, 285.0, 266.0, 266.0, 287.0, 258.0, 243.0, 258.0, 279.0, 249.0, 287.0, 244.0, 295.0, 260.0, 266.0, 264.0, 293.0, 278.0, 253.0, 288.0, 238.0, 253.0, 262.0, 254.0, 273.0, 266.0, 293.0, 271.0, 286.0, 262.0, 292.0, 266.0, 250.0, 266.0, 278.0, 271.0, 271.0, 248.0, 263.0, 272.0, 270.0, 249.0, 262.0, 298.0, 282.0, 288.0, 278.0, 298.0, 304.0, 310.0, 296.0, 302.0, 303.0, 321.0, 319.0, 291.0, 326.0, 305.0, 310.0, 297.0, 299.0, 321.0, 301.0, 299.0, 300.0, 314.0, 290.0, 286.0, 307.0, 310.0, 299.0, 315.0, 321.0, 300.0, 318.0, 301.0, 352.0, 309.0, 328.0, 347.0, 309.0, 304.0, 330.0, 335.0, 327.0, 319.0, 324.0, 325.0, 289.0, 310.0, 300.0, 271.0, 341.0, 312.0, 305.0, 300.0, 332.0, 335.0, 333.0, 336.0, 299.0, 332.0, 335.0, 335.0, 267.0, 317.0, 356.0, 337.0, 342.0, 345.0, 322.0, 335.0, 329.0, 314.0, 350.0, 318.0, 354.0, 339.0, 345.0]}, {\"name\": \"Ano 2020\", \"type\": \"bar\", \"x\": [\"Jan-01\", \"Jan-02\", \"Jan-03\", \"Jan-04\", \"Jan-05\", \"Jan-06\", \"Jan-07\", \"Jan-08\", \"Jan-09\", \"Jan-10\", \"Jan-11\", \"Jan-12\", \"Jan-13\", \"Jan-14\", \"Jan-15\", \"Jan-16\", \"Jan-17\", \"Jan-18\", \"Jan-19\", \"Jan-20\", \"Jan-21\", \"Jan-22\", \"Jan-23\", \"Jan-24\", \"Jan-25\", \"Jan-26\", \"Jan-27\", \"Jan-28\", \"Jan-29\", \"Jan-30\", \"Jan-31\", \"Fev-01\", \"Fev-02\", \"Fev-03\", \"Fev-04\", \"Fev-05\", \"Fev-06\", \"Fev-07\", \"Fev-08\", \"Fev-09\", \"Fev-10\", \"Fev-11\", \"Fev-12\", \"Fev-13\", \"Fev-14\", \"Fev-15\", \"Fev-16\", \"Fev-17\", \"Fev-18\", \"Fev-19\", \"Fev-20\", \"Fev-21\", \"Fev-22\", \"Fev-23\", \"Fev-24\", \"Fev-25\", \"Fev-26\", \"Fev-27\", \"Fev-28\", \"Fev-29\", \"Mar-01\", \"Mar-02\", \"Mar-03\", \"Mar-04\", \"Mar-05\", \"Mar-06\", \"Mar-07\", \"Mar-08\", \"Mar-09\", \"Mar-10\", \"Mar-11\", \"Mar-12\", \"Mar-13\", \"Mar-14\", \"Mar-15\", \"Mar-16\", \"Mar-17\", \"Mar-18\", \"Mar-19\", \"Mar-20\", \"Mar-21\", \"Mar-22\", \"Mar-23\", \"Mar-24\", \"Mar-25\", \"Mar-26\", \"Mar-27\", \"Mar-28\", \"Mar-29\", \"Mar-30\", \"Mar-31\", \"Abr-01\", \"Abr-02\", \"Abr-03\", \"Abr-04\", \"Abr-05\", \"Abr-06\", \"Abr-07\", \"Abr-08\", \"Abr-09\", \"Abr-10\", \"Abr-11\", \"Abr-12\", \"Abr-13\", \"Abr-14\", \"Abr-15\", \"Abr-16\", \"Abr-17\", \"Abr-18\", \"Abr-19\", \"Abr-20\", \"Abr-21\", \"Abr-22\", \"Abr-23\", \"Abr-24\", \"Abr-25\", \"Abr-26\", \"Abr-27\", \"Abr-28\", \"Abr-29\", \"Abr-30\", \"Mai-01\", \"Mai-02\", \"Mai-03\", \"Mai-04\", \"Mai-05\", \"Mai-06\", \"Mai-07\", \"Mai-08\", \"Mai-09\", \"Mai-10\", \"Mai-11\", \"Mai-12\", \"Mai-13\", \"Mai-14\", \"Mai-15\", \"Mai-16\", \"Mai-17\", \"Mai-18\", \"Mai-19\", \"Mai-20\", \"Mai-21\", \"Mai-22\", \"Mai-23\", \"Mai-24\", \"Mai-25\", \"Mai-26\", \"Mai-27\", \"Mai-28\", \"Mai-29\", \"Mai-30\", \"Mai-31\", \"Jun-01\", \"Jun-02\", \"Jun-03\", \"Jun-04\", \"Jun-05\", \"Jun-06\", \"Jun-07\", \"Jun-08\", \"Jun-09\", \"Jun-10\", \"Jun-11\", \"Jun-12\", \"Jun-13\", \"Jun-14\", \"Jun-15\", \"Jun-16\", \"Jun-17\", \"Jun-18\", \"Jun-19\", \"Jun-20\", \"Jun-21\", \"Jun-22\", \"Jun-23\", \"Jun-24\", \"Jun-25\", \"Jun-26\", \"Jun-27\", \"Jun-28\", \"Jun-29\", \"Jun-30\", \"Jul-01\", \"Jul-02\", \"Jul-03\", \"Jul-04\", \"Jul-05\", \"Jul-06\", \"Jul-07\", \"Jul-08\", \"Jul-09\", \"Jul-10\", \"Jul-11\", \"Jul-12\", \"Jul-13\", \"Jul-14\", \"Jul-15\", \"Jul-16\", \"Jul-17\", \"Jul-18\", \"Jul-19\", \"Jul-20\", \"Jul-21\", \"Jul-22\", \"Jul-23\", \"Jul-24\", \"Jul-25\", \"Jul-26\", \"Jul-27\", \"Jul-28\", \"Jul-29\", \"Jul-30\", \"Jul-31\", \"Ago-01\", \"Ago-02\", \"Ago-03\", \"Ago-04\", \"Ago-05\", \"Ago-06\", \"Ago-07\", \"Ago-08\", \"Ago-09\", \"Ago-10\", \"Ago-11\", \"Ago-12\", \"Ago-13\", \"Ago-14\", \"Ago-15\", \"Ago-16\", \"Ago-17\", \"Ago-18\", \"Ago-19\", \"Ago-20\", \"Ago-21\", \"Ago-22\", \"Ago-23\", \"Ago-24\", \"Ago-25\", \"Ago-26\", \"Ago-27\", \"Ago-28\", \"Ago-29\", \"Ago-30\", \"Ago-31\", \"Set-01\", \"Set-02\", \"Set-03\", \"Set-04\", \"Set-05\", \"Set-06\", \"Set-07\", \"Set-08\", \"Set-09\", \"Set-10\", \"Set-11\", \"Set-12\", \"Set-13\", \"Set-14\", \"Set-15\", \"Set-16\", \"Set-17\", \"Set-18\", \"Set-19\", \"Set-20\", \"Set-21\", \"Set-22\", \"Set-23\", \"Set-24\", \"Set-25\", \"Set-26\", \"Set-27\", \"Set-28\", \"Set-29\", \"Set-30\", \"Out-01\", \"Out-02\", \"Out-03\", \"Out-04\", \"Out-05\", \"Out-06\", \"Out-07\", \"Out-08\", \"Out-09\", \"Out-10\", \"Out-11\", \"Out-12\", \"Out-13\", \"Out-14\", \"Out-15\", \"Out-16\", \"Out-17\", \"Out-18\", \"Out-19\", \"Out-20\", \"Out-21\", \"Out-22\", \"Out-23\", \"Out-24\", \"Out-25\", \"Out-26\", \"Out-27\", \"Out-28\", \"Out-29\", \"Out-30\", \"Out-31\", \"Nov-01\", \"Nov-02\", \"Nov-03\", \"Nov-04\", \"Nov-05\", \"Nov-06\", \"Nov-07\", \"Nov-08\", \"Nov-09\", \"Nov-10\", \"Nov-11\", \"Nov-12\", \"Nov-13\", \"Nov-14\", \"Nov-15\", \"Nov-16\", \"Nov-17\", \"Nov-18\", \"Nov-19\", \"Nov-20\", \"Nov-21\", \"Nov-22\", \"Nov-23\", \"Nov-24\", \"Nov-25\", \"Nov-26\", \"Nov-27\", \"Nov-28\", \"Nov-29\", \"Nov-30\", \"Dez-01\", \"Dez-02\", \"Dez-03\", \"Dez-04\", \"Dez-05\", \"Dez-06\", \"Dez-07\", \"Dez-08\", \"Dez-09\", \"Dez-10\", \"Dez-11\", \"Dez-12\", \"Dez-13\", \"Dez-14\", \"Dez-15\", \"Dez-16\", \"Dez-17\", \"Dez-18\", \"Dez-19\", \"Dez-20\", \"Dez-21\", \"Dez-22\", \"Dez-23\", \"Dez-24\", \"Dez-25\", \"Dez-26\", \"Dez-27\", \"Dez-28\", \"Dez-29\", \"Dez-30\", \"Dez-31\"], \"y\": [376.0, 381.0, 374.0, 364.0, 333.0, 364.0, 382.0, 384.0, 380.0, 376.0, 378.0, 405.0, 405.0, 397.0, 426.0, 388.0, 389.0, 388.0, 382.0, 375.0, 356.0, 377.0, 402.0, 380.0, 413.0, 373.0, 412.0, 375.0, 367.0, 378.0, 392.0, 383.0, 383.0, 399.0, 379.0, 356.0, 344.0, 352.0, 337.0, 330.0, 331.0, 324.0, 336.0, 333.0, 316.0, 331.0, 311.0, 362.0, 313.0, 340.0, 316.0, 350.0, 352.0, 330.0, 333.0, 328.0, 316.0, 357.0, 317.0, 319.0, 333.0, 312.0, 328.0, 300.0, 305.0, 314.0, 321.0, 301.0, 337.0, 339.0, 349.0, 344.0, 346.0, 338.0, 312.0, 346.0, 339.0, 333.0, 369.0, 365.0, 353.0, 335.0, 327.0, 379.0, 360.0, 389.0, 368.0, 363.0, 366.0, 369.0, 378.0, 381.0, 376.0, 388.0, 422.0, 342.0, 377.0, 385.0, 390.0, 383.0, 359.0, 348.0, 371.0, 370.0, 339.0, 340.0, 348.0, 351.0, 329.0, 308.0, 352.0, 311.0, 327.0, 336.0, 327.0, 337.0, 318.0, 307.0, 324.0, 277.0, 302.0, 337.0, 305.0, 318.0, 313.0, 325.0, 316.0, 332.0, 318.0, 304.0, 265.0, 290.0, 329.0, 266.0, 297.0, 270.0, 303.0, 304.0, 293.0, 292.0, 292.0, null, 260.0, 259.0, 7.0, null, null, null, null, null, null, null, null, null, null, null, null, null, null, null, null, null, null, null, null, null, null, null, null, null, null, null, null, null, null, null, null, null, null, null, null, null, null, null, null, null, null, null, null, null, null, null, null, null, null, null, null, null, null, null, null, null, null, null, null, null, null, null, null, null, null, null, null, null, null, null, null, null, null, null, null, null, null, null, null, null, null, null, null, null, null, null, null, null, null, null, null, null, null, null, null, null, null, null, null, null, null, null, null, null, null, null, null, null, null, null, null, null, null, null, null, null, null, null, null, null, null, null, null, null, null, null, null, null, null, null, null, null, null, null, null, null, null, null, null, null, null, null, null, null, null, null, null, null, null, null, null, null, null, null, null, null, null, null, null, null, null, null, null, null, null, null, null, null, null, null, null, null, null, null, null, null, null, null, null, null, null, null, null, null, null, null, null, null, null, null, null, null, null, null, null, null, null, null, null, null, null, null, null, null, null, null, null, null, null, null, null, null, null, null, null, null, null, null, null, null]}],\n",
       "                        {\"template\": {\"data\": {\"bar\": [{\"error_x\": {\"color\": \"#2a3f5f\"}, \"error_y\": {\"color\": \"#2a3f5f\"}, \"marker\": {\"line\": {\"color\": \"#E5ECF6\", \"width\": 0.5}}, \"type\": \"bar\"}], \"barpolar\": [{\"marker\": {\"line\": {\"color\": \"#E5ECF6\", \"width\": 0.5}}, \"type\": \"barpolar\"}], \"carpet\": [{\"aaxis\": {\"endlinecolor\": \"#2a3f5f\", \"gridcolor\": \"white\", \"linecolor\": \"white\", \"minorgridcolor\": \"white\", \"startlinecolor\": \"#2a3f5f\"}, \"baxis\": {\"endlinecolor\": \"#2a3f5f\", \"gridcolor\": \"white\", \"linecolor\": \"white\", \"minorgridcolor\": \"white\", \"startlinecolor\": \"#2a3f5f\"}, \"type\": \"carpet\"}], \"choropleth\": [{\"colorbar\": {\"outlinewidth\": 0, \"ticks\": \"\"}, \"type\": \"choropleth\"}], \"contour\": [{\"colorbar\": {\"outlinewidth\": 0, \"ticks\": \"\"}, \"colorscale\": [[0.0, \"#0d0887\"], [0.1111111111111111, \"#46039f\"], [0.2222222222222222, \"#7201a8\"], [0.3333333333333333, \"#9c179e\"], [0.4444444444444444, \"#bd3786\"], [0.5555555555555556, \"#d8576b\"], [0.6666666666666666, \"#ed7953\"], [0.7777777777777778, \"#fb9f3a\"], [0.8888888888888888, \"#fdca26\"], [1.0, \"#f0f921\"]], \"type\": \"contour\"}], \"contourcarpet\": [{\"colorbar\": {\"outlinewidth\": 0, \"ticks\": \"\"}, \"type\": \"contourcarpet\"}], \"heatmap\": [{\"colorbar\": {\"outlinewidth\": 0, \"ticks\": \"\"}, \"colorscale\": [[0.0, \"#0d0887\"], [0.1111111111111111, \"#46039f\"], [0.2222222222222222, \"#7201a8\"], [0.3333333333333333, \"#9c179e\"], [0.4444444444444444, \"#bd3786\"], [0.5555555555555556, \"#d8576b\"], [0.6666666666666666, \"#ed7953\"], [0.7777777777777778, \"#fb9f3a\"], [0.8888888888888888, \"#fdca26\"], [1.0, \"#f0f921\"]], \"type\": \"heatmap\"}], \"heatmapgl\": [{\"colorbar\": {\"outlinewidth\": 0, \"ticks\": \"\"}, \"colorscale\": [[0.0, \"#0d0887\"], [0.1111111111111111, \"#46039f\"], [0.2222222222222222, \"#7201a8\"], [0.3333333333333333, \"#9c179e\"], [0.4444444444444444, \"#bd3786\"], [0.5555555555555556, \"#d8576b\"], [0.6666666666666666, \"#ed7953\"], [0.7777777777777778, \"#fb9f3a\"], [0.8888888888888888, \"#fdca26\"], [1.0, \"#f0f921\"]], \"type\": \"heatmapgl\"}], \"histogram\": [{\"marker\": {\"colorbar\": {\"outlinewidth\": 0, \"ticks\": \"\"}}, \"type\": \"histogram\"}], \"histogram2d\": [{\"colorbar\": {\"outlinewidth\": 0, \"ticks\": \"\"}, \"colorscale\": [[0.0, \"#0d0887\"], [0.1111111111111111, \"#46039f\"], [0.2222222222222222, \"#7201a8\"], [0.3333333333333333, \"#9c179e\"], [0.4444444444444444, \"#bd3786\"], [0.5555555555555556, \"#d8576b\"], [0.6666666666666666, \"#ed7953\"], [0.7777777777777778, \"#fb9f3a\"], [0.8888888888888888, \"#fdca26\"], [1.0, \"#f0f921\"]], \"type\": \"histogram2d\"}], \"histogram2dcontour\": [{\"colorbar\": {\"outlinewidth\": 0, \"ticks\": \"\"}, \"colorscale\": [[0.0, \"#0d0887\"], [0.1111111111111111, \"#46039f\"], [0.2222222222222222, \"#7201a8\"], [0.3333333333333333, \"#9c179e\"], [0.4444444444444444, \"#bd3786\"], [0.5555555555555556, \"#d8576b\"], [0.6666666666666666, \"#ed7953\"], [0.7777777777777778, \"#fb9f3a\"], [0.8888888888888888, \"#fdca26\"], [1.0, \"#f0f921\"]], \"type\": \"histogram2dcontour\"}], \"mesh3d\": [{\"colorbar\": {\"outlinewidth\": 0, \"ticks\": \"\"}, \"type\": \"mesh3d\"}], \"parcoords\": [{\"line\": {\"colorbar\": {\"outlinewidth\": 0, \"ticks\": \"\"}}, \"type\": \"parcoords\"}], \"pie\": [{\"automargin\": true, \"type\": \"pie\"}], \"scatter\": [{\"marker\": {\"colorbar\": {\"outlinewidth\": 0, \"ticks\": \"\"}}, \"type\": \"scatter\"}], \"scatter3d\": [{\"line\": {\"colorbar\": {\"outlinewidth\": 0, \"ticks\": \"\"}}, \"marker\": {\"colorbar\": {\"outlinewidth\": 0, \"ticks\": \"\"}}, \"type\": \"scatter3d\"}], \"scattercarpet\": [{\"marker\": {\"colorbar\": {\"outlinewidth\": 0, \"ticks\": \"\"}}, \"type\": \"scattercarpet\"}], \"scattergeo\": [{\"marker\": {\"colorbar\": {\"outlinewidth\": 0, \"ticks\": \"\"}}, \"type\": \"scattergeo\"}], \"scattergl\": [{\"marker\": {\"colorbar\": {\"outlinewidth\": 0, \"ticks\": \"\"}}, \"type\": \"scattergl\"}], \"scattermapbox\": [{\"marker\": {\"colorbar\": {\"outlinewidth\": 0, \"ticks\": \"\"}}, \"type\": \"scattermapbox\"}], \"scatterpolar\": [{\"marker\": {\"colorbar\": {\"outlinewidth\": 0, \"ticks\": \"\"}}, \"type\": \"scatterpolar\"}], \"scatterpolargl\": [{\"marker\": {\"colorbar\": {\"outlinewidth\": 0, \"ticks\": \"\"}}, \"type\": \"scatterpolargl\"}], \"scatterternary\": [{\"marker\": {\"colorbar\": {\"outlinewidth\": 0, \"ticks\": \"\"}}, \"type\": \"scatterternary\"}], \"surface\": [{\"colorbar\": {\"outlinewidth\": 0, \"ticks\": \"\"}, \"colorscale\": [[0.0, \"#0d0887\"], [0.1111111111111111, \"#46039f\"], [0.2222222222222222, \"#7201a8\"], [0.3333333333333333, \"#9c179e\"], [0.4444444444444444, \"#bd3786\"], [0.5555555555555556, \"#d8576b\"], [0.6666666666666666, \"#ed7953\"], [0.7777777777777778, \"#fb9f3a\"], [0.8888888888888888, \"#fdca26\"], [1.0, \"#f0f921\"]], \"type\": \"surface\"}], \"table\": [{\"cells\": {\"fill\": {\"color\": \"#EBF0F8\"}, \"line\": {\"color\": \"white\"}}, \"header\": {\"fill\": {\"color\": \"#C8D4E3\"}, \"line\": {\"color\": \"white\"}}, \"type\": \"table\"}]}, \"layout\": {\"annotationdefaults\": {\"arrowcolor\": \"#2a3f5f\", \"arrowhead\": 0, \"arrowwidth\": 1}, \"coloraxis\": {\"colorbar\": {\"outlinewidth\": 0, \"ticks\": \"\"}}, \"colorscale\": {\"diverging\": [[0, \"#8e0152\"], [0.1, \"#c51b7d\"], [0.2, \"#de77ae\"], [0.3, \"#f1b6da\"], [0.4, \"#fde0ef\"], [0.5, \"#f7f7f7\"], [0.6, \"#e6f5d0\"], [0.7, \"#b8e186\"], [0.8, \"#7fbc41\"], [0.9, \"#4d9221\"], [1, \"#276419\"]], \"sequential\": [[0.0, \"#0d0887\"], [0.1111111111111111, \"#46039f\"], [0.2222222222222222, \"#7201a8\"], [0.3333333333333333, \"#9c179e\"], [0.4444444444444444, \"#bd3786\"], [0.5555555555555556, \"#d8576b\"], [0.6666666666666666, \"#ed7953\"], [0.7777777777777778, \"#fb9f3a\"], [0.8888888888888888, \"#fdca26\"], [1.0, \"#f0f921\"]], \"sequentialminus\": [[0.0, \"#0d0887\"], [0.1111111111111111, \"#46039f\"], [0.2222222222222222, \"#7201a8\"], [0.3333333333333333, \"#9c179e\"], [0.4444444444444444, \"#bd3786\"], [0.5555555555555556, \"#d8576b\"], [0.6666666666666666, \"#ed7953\"], [0.7777777777777778, \"#fb9f3a\"], [0.8888888888888888, \"#fdca26\"], [1.0, \"#f0f921\"]]}, \"colorway\": [\"#636efa\", \"#EF553B\", \"#00cc96\", \"#ab63fa\", \"#FFA15A\", \"#19d3f3\", \"#FF6692\", \"#B6E880\", \"#FF97FF\", \"#FECB52\"], \"font\": {\"color\": \"#2a3f5f\"}, \"geo\": {\"bgcolor\": \"white\", \"lakecolor\": \"white\", \"landcolor\": \"#E5ECF6\", \"showlakes\": true, \"showland\": true, \"subunitcolor\": \"white\"}, \"hoverlabel\": {\"align\": \"left\"}, \"hovermode\": \"closest\", \"mapbox\": {\"style\": \"light\"}, \"paper_bgcolor\": \"white\", \"plot_bgcolor\": \"#E5ECF6\", \"polar\": {\"angularaxis\": {\"gridcolor\": \"white\", \"linecolor\": \"white\", \"ticks\": \"\"}, \"bgcolor\": \"#E5ECF6\", \"radialaxis\": {\"gridcolor\": \"white\", \"linecolor\": \"white\", \"ticks\": \"\"}}, \"scene\": {\"xaxis\": {\"backgroundcolor\": \"#E5ECF6\", \"gridcolor\": \"white\", \"gridwidth\": 2, \"linecolor\": \"white\", \"showbackground\": true, \"ticks\": \"\", \"zerolinecolor\": \"white\"}, \"yaxis\": {\"backgroundcolor\": \"#E5ECF6\", \"gridcolor\": \"white\", \"gridwidth\": 2, \"linecolor\": \"white\", \"showbackground\": true, \"ticks\": \"\", \"zerolinecolor\": \"white\"}, \"zaxis\": {\"backgroundcolor\": \"#E5ECF6\", \"gridcolor\": \"white\", \"gridwidth\": 2, \"linecolor\": \"white\", \"showbackground\": true, \"ticks\": \"\", \"zerolinecolor\": \"white\"}}, \"shapedefaults\": {\"line\": {\"color\": \"#2a3f5f\"}}, \"ternary\": {\"aaxis\": {\"gridcolor\": \"white\", \"linecolor\": \"white\", \"ticks\": \"\"}, \"baxis\": {\"gridcolor\": \"white\", \"linecolor\": \"white\", \"ticks\": \"\"}, \"bgcolor\": \"#E5ECF6\", \"caxis\": {\"gridcolor\": \"white\", \"linecolor\": \"white\", \"ticks\": \"\"}}, \"title\": {\"x\": 0.05}, \"xaxis\": {\"automargin\": true, \"gridcolor\": \"white\", \"linecolor\": \"white\", \"ticks\": \"\", \"title\": {\"standoff\": 15}, \"zerolinecolor\": \"white\", \"zerolinewidth\": 2}, \"yaxis\": {\"automargin\": true, \"gridcolor\": \"white\", \"linecolor\": \"white\", \"ticks\": \"\", \"title\": {\"standoff\": 15}, \"zerolinecolor\": \"white\", \"zerolinewidth\": 2}}}},\n",
       "                        {\"responsive\": true}\n",
       "                    ).then(function(){\n",
       "                            \n",
       "var gd = document.getElementById('1eeb5619-0c7a-4581-849a-d838e6733893');\n",
       "var x = new MutationObserver(function (mutations, observer) {{\n",
       "        var display = window.getComputedStyle(gd).display;\n",
       "        if (!display || display === 'none') {{\n",
       "            console.log([gd, 'removed!']);\n",
       "            Plotly.purge(gd);\n",
       "            observer.disconnect();\n",
       "        }}\n",
       "}});\n",
       "\n",
       "// Listen for the removal of the full notebook cells\n",
       "var notebookContainer = gd.closest('#notebook-container');\n",
       "if (notebookContainer) {{\n",
       "    x.observe(notebookContainer, {childList: true});\n",
       "}}\n",
       "\n",
       "// Listen for the clearing of the current output cell\n",
       "var outputEl = gd.closest('.output');\n",
       "if (outputEl) {{\n",
       "    x.observe(outputEl, {childList: true});\n",
       "}}\n",
       "\n",
       "                        })\n",
       "                };\n",
       "                });\n",
       "            </script>\n",
       "        </div>"
      ]
     },
     "metadata": {},
     "output_type": "display_data"
    }
   ],
   "source": [
    "import plotly.offline as py\n",
    "import plotly.graph_objs as go\n",
    "py.init_notebook_mode(connected=True)\n",
    "\n",
    "Ano_2019 = go.Bar(x = dados['Data'],\n",
    "                y = dados['2019'],\n",
    "                name = 'Ano 2019')\n",
    "Ano_2020 = go.Bar(x = dados['Data'],\n",
    "                y = dados['2020'],\n",
    "                name = 'Ano 2020')\n",
    "dados = [Ano_2019, Ano_2020]\n",
    "py.iplot(dados)"
   ]
  },
  {
   "cell_type": "markdown",
   "metadata": {},
   "source": [
    "> É importante referir que, desde o início de março e até finais de abril, o número de mortes em 2020 é significativamente mais alto quando comparado com o número de mortes em 2019."
   ]
  },
  {
   "cell_type": "code",
   "execution_count": null,
   "metadata": {},
   "outputs": [],
   "source": []
  }
 ],
 "metadata": {
  "kernelspec": {
   "display_name": "Python 3",
   "language": "python",
   "name": "python3"
  },
  "language_info": {
   "codemirror_mode": {
    "name": "ipython",
    "version": 3
   },
   "file_extension": ".py",
   "mimetype": "text/x-python",
   "name": "python",
   "nbconvert_exporter": "python",
   "pygments_lexer": "ipython3",
   "version": "3.7.7"
  }
 },
 "nbformat": 4,
 "nbformat_minor": 4
}
